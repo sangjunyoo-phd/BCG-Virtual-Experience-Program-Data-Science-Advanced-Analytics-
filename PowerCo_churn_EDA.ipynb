{
 "cells": [
  {
   "cell_type": "markdown",
   "id": "13255bd0",
   "metadata": {},
   "source": [
    "## Data Description\n",
    "#### client_data.csv\n",
    "* id = client company identifier\n",
    "* activity_new = category of the company’s activity\n",
    "* channel_sales = code of the sales channel\n",
    "* cons_12m = electricity consumption of the past 12 months\n",
    "*\tcons_gas_12m = gas consumption of the past 12 months\n",
    "*\tcons_last_month = electricity consumption of the last month\n",
    "*\tdate_activ = date of activation of the contract\n",
    "*\tdate_end = registered date of the end of the contract\n",
    "*\tdate_modif_prod = date of the last modification of the product\n",
    "*\tdate_renewal = date of the next contract renewal\n",
    "*\tforecast_cons_12m = forecasted electricity consumption for next 12 months\n",
    "*\tforecast_cons_year = forecasted electricity consumption for the next calendar year\n",
    "*\tforecast_discount_energy = forecasted value of current discount\n",
    "*\tforecast_meter_rent_12m = forecasted bill of meter rental for the next 2 months\n",
    "*\tforecast_price_energy_off_peak = forecasted energy price for 1st period (off peak)\n",
    "*\tforecast_price_energy_peak = forecasted energy price for 2nd period (peak)\n",
    "*\tforecast_price_pow_off_peak = forecasted power price for 1st period (off peak)\n",
    "*\thas_gas = indicated if client is also a gas client\n",
    "*\timp_cons = current paid consumption\n",
    "*\tmargin_gross_pow_ele = gross margin on power subscription\n",
    "*\tmargin_net_pow_ele = net margin on power subscription\n",
    "*\tnb_prod_act = number of active products and services\n",
    "*\tnet_margin = total net margin\n",
    "*\tnum_years_antig = antiquity of the client (in number of years)\n",
    "*\torigin_up = code of the electricity campaign the customer first subscribed to\n",
    "*\tpow_max = subscribed power\n",
    "*\tchurn = has the client churned over the next 3 months\n",
    "\n",
    "#### price_data.csv\n",
    "*\tid = client company identifier\n",
    "*\tprice_date = reference date\n",
    "*\tprice_off_peak_var = price of energy for the 1st period (off peak)\n",
    "*\tprice_peak_var = price of energy for the 2nd period (peak)\n",
    "*\tprice_mid_peak_var = price of energy for the 3rd period (mid peak)\n",
    "*\tprice_off_peak_fix = price of power for the 1st period (off peak)\n",
    "*\tprice_peak_fix = price of power for the 2nd period (peak)\n",
    "*\tprice_mid_peak_fix = price of power for the 3rd period (mid peak)\n",
    "\n",
    "Assumption) divide a day to 3 ranges and assign different cost for each range: least energy intensive (morning), mid-energy intensive (evening), high-energy intesive (daytime)"
   ]
  },
  {
   "cell_type": "code",
   "execution_count": 1,
   "id": "a8025174",
   "metadata": {},
   "outputs": [],
   "source": [
    "# import libraries\n",
    "import numpy as np\n",
    "import pandas as pd\n",
    "import seaborn as sns\n",
    "import matplotlib.pyplot as plt"
   ]
  },
  {
   "cell_type": "markdown",
   "id": "917c655a",
   "metadata": {},
   "source": [
    "## Part 1. EDA\n",
    "\n",
    "Try to figure out what each feature means"
   ]
  },
  {
   "cell_type": "code",
   "execution_count": 2,
   "id": "6a22b81e",
   "metadata": {},
   "outputs": [],
   "source": [
    "df_client = pd.read_csv('client_data.csv')\n",
    "df_price =pd.read_csv('price_data.csv')"
   ]
  },
  {
   "cell_type": "code",
   "execution_count": 3,
   "id": "e493beaa",
   "metadata": {},
   "outputs": [
    {
     "data": {
      "text/html": [
       "<div>\n",
       "<style scoped>\n",
       "    .dataframe tbody tr th:only-of-type {\n",
       "        vertical-align: middle;\n",
       "    }\n",
       "\n",
       "    .dataframe tbody tr th {\n",
       "        vertical-align: top;\n",
       "    }\n",
       "\n",
       "    .dataframe thead th {\n",
       "        text-align: right;\n",
       "    }\n",
       "</style>\n",
       "<table border=\"1\" class=\"dataframe\">\n",
       "  <thead>\n",
       "    <tr style=\"text-align: right;\">\n",
       "      <th></th>\n",
       "      <th>id</th>\n",
       "      <th>channel_sales</th>\n",
       "      <th>cons_12m</th>\n",
       "      <th>cons_gas_12m</th>\n",
       "      <th>cons_last_month</th>\n",
       "      <th>date_activ</th>\n",
       "      <th>date_end</th>\n",
       "      <th>date_modif_prod</th>\n",
       "      <th>date_renewal</th>\n",
       "      <th>forecast_cons_12m</th>\n",
       "      <th>...</th>\n",
       "      <th>has_gas</th>\n",
       "      <th>imp_cons</th>\n",
       "      <th>margin_gross_pow_ele</th>\n",
       "      <th>margin_net_pow_ele</th>\n",
       "      <th>nb_prod_act</th>\n",
       "      <th>net_margin</th>\n",
       "      <th>num_years_antig</th>\n",
       "      <th>origin_up</th>\n",
       "      <th>pow_max</th>\n",
       "      <th>churn</th>\n",
       "    </tr>\n",
       "  </thead>\n",
       "  <tbody>\n",
       "    <tr>\n",
       "      <th>0</th>\n",
       "      <td>24011ae4ebbe3035111d65fa7c15bc57</td>\n",
       "      <td>foosdfpfkusacimwkcsosbicdxkicaua</td>\n",
       "      <td>0</td>\n",
       "      <td>54946</td>\n",
       "      <td>0</td>\n",
       "      <td>2013-06-15</td>\n",
       "      <td>2016-06-15</td>\n",
       "      <td>2015-11-01</td>\n",
       "      <td>2015-06-23</td>\n",
       "      <td>0.00</td>\n",
       "      <td>...</td>\n",
       "      <td>t</td>\n",
       "      <td>0.00</td>\n",
       "      <td>25.44</td>\n",
       "      <td>25.44</td>\n",
       "      <td>2</td>\n",
       "      <td>678.99</td>\n",
       "      <td>3</td>\n",
       "      <td>lxidpiddsbxsbosboudacockeimpuepw</td>\n",
       "      <td>43.648</td>\n",
       "      <td>1</td>\n",
       "    </tr>\n",
       "    <tr>\n",
       "      <th>1</th>\n",
       "      <td>d29c2c54acc38ff3c0614d0a653813dd</td>\n",
       "      <td>MISSING</td>\n",
       "      <td>4660</td>\n",
       "      <td>0</td>\n",
       "      <td>0</td>\n",
       "      <td>2009-08-21</td>\n",
       "      <td>2016-08-30</td>\n",
       "      <td>2009-08-21</td>\n",
       "      <td>2015-08-31</td>\n",
       "      <td>189.95</td>\n",
       "      <td>...</td>\n",
       "      <td>f</td>\n",
       "      <td>0.00</td>\n",
       "      <td>16.38</td>\n",
       "      <td>16.38</td>\n",
       "      <td>1</td>\n",
       "      <td>18.89</td>\n",
       "      <td>6</td>\n",
       "      <td>kamkkxfxxuwbdslkwifmmcsiusiuosws</td>\n",
       "      <td>13.800</td>\n",
       "      <td>0</td>\n",
       "    </tr>\n",
       "    <tr>\n",
       "      <th>2</th>\n",
       "      <td>764c75f661154dac3a6c254cd082ea7d</td>\n",
       "      <td>foosdfpfkusacimwkcsosbicdxkicaua</td>\n",
       "      <td>544</td>\n",
       "      <td>0</td>\n",
       "      <td>0</td>\n",
       "      <td>2010-04-16</td>\n",
       "      <td>2016-04-16</td>\n",
       "      <td>2010-04-16</td>\n",
       "      <td>2015-04-17</td>\n",
       "      <td>47.96</td>\n",
       "      <td>...</td>\n",
       "      <td>f</td>\n",
       "      <td>0.00</td>\n",
       "      <td>28.60</td>\n",
       "      <td>28.60</td>\n",
       "      <td>1</td>\n",
       "      <td>6.60</td>\n",
       "      <td>6</td>\n",
       "      <td>kamkkxfxxuwbdslkwifmmcsiusiuosws</td>\n",
       "      <td>13.856</td>\n",
       "      <td>0</td>\n",
       "    </tr>\n",
       "    <tr>\n",
       "      <th>3</th>\n",
       "      <td>bba03439a292a1e166f80264c16191cb</td>\n",
       "      <td>lmkebamcaaclubfxadlmueccxoimlema</td>\n",
       "      <td>1584</td>\n",
       "      <td>0</td>\n",
       "      <td>0</td>\n",
       "      <td>2010-03-30</td>\n",
       "      <td>2016-03-30</td>\n",
       "      <td>2010-03-30</td>\n",
       "      <td>2015-03-31</td>\n",
       "      <td>240.04</td>\n",
       "      <td>...</td>\n",
       "      <td>f</td>\n",
       "      <td>0.00</td>\n",
       "      <td>30.22</td>\n",
       "      <td>30.22</td>\n",
       "      <td>1</td>\n",
       "      <td>25.46</td>\n",
       "      <td>6</td>\n",
       "      <td>kamkkxfxxuwbdslkwifmmcsiusiuosws</td>\n",
       "      <td>13.200</td>\n",
       "      <td>0</td>\n",
       "    </tr>\n",
       "    <tr>\n",
       "      <th>4</th>\n",
       "      <td>149d57cf92fc41cf94415803a877cb4b</td>\n",
       "      <td>MISSING</td>\n",
       "      <td>4425</td>\n",
       "      <td>0</td>\n",
       "      <td>526</td>\n",
       "      <td>2010-01-13</td>\n",
       "      <td>2016-03-07</td>\n",
       "      <td>2010-01-13</td>\n",
       "      <td>2015-03-09</td>\n",
       "      <td>445.75</td>\n",
       "      <td>...</td>\n",
       "      <td>f</td>\n",
       "      <td>52.32</td>\n",
       "      <td>44.91</td>\n",
       "      <td>44.91</td>\n",
       "      <td>1</td>\n",
       "      <td>47.98</td>\n",
       "      <td>6</td>\n",
       "      <td>kamkkxfxxuwbdslkwifmmcsiusiuosws</td>\n",
       "      <td>19.800</td>\n",
       "      <td>0</td>\n",
       "    </tr>\n",
       "  </tbody>\n",
       "</table>\n",
       "<p>5 rows × 26 columns</p>\n",
       "</div>"
      ],
      "text/plain": [
       "                                 id                     channel_sales  \\\n",
       "0  24011ae4ebbe3035111d65fa7c15bc57  foosdfpfkusacimwkcsosbicdxkicaua   \n",
       "1  d29c2c54acc38ff3c0614d0a653813dd                           MISSING   \n",
       "2  764c75f661154dac3a6c254cd082ea7d  foosdfpfkusacimwkcsosbicdxkicaua   \n",
       "3  bba03439a292a1e166f80264c16191cb  lmkebamcaaclubfxadlmueccxoimlema   \n",
       "4  149d57cf92fc41cf94415803a877cb4b                           MISSING   \n",
       "\n",
       "   cons_12m  cons_gas_12m  cons_last_month  date_activ    date_end  \\\n",
       "0         0         54946                0  2013-06-15  2016-06-15   \n",
       "1      4660             0                0  2009-08-21  2016-08-30   \n",
       "2       544             0                0  2010-04-16  2016-04-16   \n",
       "3      1584             0                0  2010-03-30  2016-03-30   \n",
       "4      4425             0              526  2010-01-13  2016-03-07   \n",
       "\n",
       "  date_modif_prod date_renewal  forecast_cons_12m  ...  has_gas  imp_cons  \\\n",
       "0      2015-11-01   2015-06-23               0.00  ...        t      0.00   \n",
       "1      2009-08-21   2015-08-31             189.95  ...        f      0.00   \n",
       "2      2010-04-16   2015-04-17              47.96  ...        f      0.00   \n",
       "3      2010-03-30   2015-03-31             240.04  ...        f      0.00   \n",
       "4      2010-01-13   2015-03-09             445.75  ...        f     52.32   \n",
       "\n",
       "   margin_gross_pow_ele  margin_net_pow_ele  nb_prod_act  net_margin  \\\n",
       "0                 25.44               25.44            2      678.99   \n",
       "1                 16.38               16.38            1       18.89   \n",
       "2                 28.60               28.60            1        6.60   \n",
       "3                 30.22               30.22            1       25.46   \n",
       "4                 44.91               44.91            1       47.98   \n",
       "\n",
       "  num_years_antig                         origin_up  pow_max  churn  \n",
       "0               3  lxidpiddsbxsbosboudacockeimpuepw   43.648      1  \n",
       "1               6  kamkkxfxxuwbdslkwifmmcsiusiuosws   13.800      0  \n",
       "2               6  kamkkxfxxuwbdslkwifmmcsiusiuosws   13.856      0  \n",
       "3               6  kamkkxfxxuwbdslkwifmmcsiusiuosws   13.200      0  \n",
       "4               6  kamkkxfxxuwbdslkwifmmcsiusiuosws   19.800      0  \n",
       "\n",
       "[5 rows x 26 columns]"
      ]
     },
     "execution_count": 3,
     "metadata": {},
     "output_type": "execute_result"
    }
   ],
   "source": [
    "df_client.head()"
   ]
  },
  {
   "cell_type": "code",
   "execution_count": 4,
   "id": "51155b76",
   "metadata": {},
   "outputs": [
    {
     "data": {
      "text/html": [
       "<div>\n",
       "<style scoped>\n",
       "    .dataframe tbody tr th:only-of-type {\n",
       "        vertical-align: middle;\n",
       "    }\n",
       "\n",
       "    .dataframe tbody tr th {\n",
       "        vertical-align: top;\n",
       "    }\n",
       "\n",
       "    .dataframe thead th {\n",
       "        text-align: right;\n",
       "    }\n",
       "</style>\n",
       "<table border=\"1\" class=\"dataframe\">\n",
       "  <thead>\n",
       "    <tr style=\"text-align: right;\">\n",
       "      <th></th>\n",
       "      <th>id</th>\n",
       "      <th>price_date</th>\n",
       "      <th>price_off_peak_var</th>\n",
       "      <th>price_peak_var</th>\n",
       "      <th>price_mid_peak_var</th>\n",
       "      <th>price_off_peak_fix</th>\n",
       "      <th>price_peak_fix</th>\n",
       "      <th>price_mid_peak_fix</th>\n",
       "    </tr>\n",
       "  </thead>\n",
       "  <tbody>\n",
       "    <tr>\n",
       "      <th>0</th>\n",
       "      <td>038af19179925da21a25619c5a24b745</td>\n",
       "      <td>2015-01-01</td>\n",
       "      <td>0.151367</td>\n",
       "      <td>0.0</td>\n",
       "      <td>0.0</td>\n",
       "      <td>44.266931</td>\n",
       "      <td>0.0</td>\n",
       "      <td>0.0</td>\n",
       "    </tr>\n",
       "    <tr>\n",
       "      <th>1</th>\n",
       "      <td>038af19179925da21a25619c5a24b745</td>\n",
       "      <td>2015-02-01</td>\n",
       "      <td>0.151367</td>\n",
       "      <td>0.0</td>\n",
       "      <td>0.0</td>\n",
       "      <td>44.266931</td>\n",
       "      <td>0.0</td>\n",
       "      <td>0.0</td>\n",
       "    </tr>\n",
       "    <tr>\n",
       "      <th>2</th>\n",
       "      <td>038af19179925da21a25619c5a24b745</td>\n",
       "      <td>2015-03-01</td>\n",
       "      <td>0.151367</td>\n",
       "      <td>0.0</td>\n",
       "      <td>0.0</td>\n",
       "      <td>44.266931</td>\n",
       "      <td>0.0</td>\n",
       "      <td>0.0</td>\n",
       "    </tr>\n",
       "    <tr>\n",
       "      <th>3</th>\n",
       "      <td>038af19179925da21a25619c5a24b745</td>\n",
       "      <td>2015-04-01</td>\n",
       "      <td>0.149626</td>\n",
       "      <td>0.0</td>\n",
       "      <td>0.0</td>\n",
       "      <td>44.266931</td>\n",
       "      <td>0.0</td>\n",
       "      <td>0.0</td>\n",
       "    </tr>\n",
       "    <tr>\n",
       "      <th>4</th>\n",
       "      <td>038af19179925da21a25619c5a24b745</td>\n",
       "      <td>2015-05-01</td>\n",
       "      <td>0.149626</td>\n",
       "      <td>0.0</td>\n",
       "      <td>0.0</td>\n",
       "      <td>44.266931</td>\n",
       "      <td>0.0</td>\n",
       "      <td>0.0</td>\n",
       "    </tr>\n",
       "  </tbody>\n",
       "</table>\n",
       "</div>"
      ],
      "text/plain": [
       "                                 id  price_date  price_off_peak_var  \\\n",
       "0  038af19179925da21a25619c5a24b745  2015-01-01            0.151367   \n",
       "1  038af19179925da21a25619c5a24b745  2015-02-01            0.151367   \n",
       "2  038af19179925da21a25619c5a24b745  2015-03-01            0.151367   \n",
       "3  038af19179925da21a25619c5a24b745  2015-04-01            0.149626   \n",
       "4  038af19179925da21a25619c5a24b745  2015-05-01            0.149626   \n",
       "\n",
       "   price_peak_var  price_mid_peak_var  price_off_peak_fix  price_peak_fix  \\\n",
       "0             0.0                 0.0           44.266931             0.0   \n",
       "1             0.0                 0.0           44.266931             0.0   \n",
       "2             0.0                 0.0           44.266931             0.0   \n",
       "3             0.0                 0.0           44.266931             0.0   \n",
       "4             0.0                 0.0           44.266931             0.0   \n",
       "\n",
       "   price_mid_peak_fix  \n",
       "0                 0.0  \n",
       "1                 0.0  \n",
       "2                 0.0  \n",
       "3                 0.0  \n",
       "4                 0.0  "
      ]
     },
     "execution_count": 4,
     "metadata": {},
     "output_type": "execute_result"
    }
   ],
   "source": [
    "df_price.head()"
   ]
  },
  {
   "cell_type": "code",
   "execution_count": 5,
   "id": "11a00ae5",
   "metadata": {
    "scrolled": true
   },
   "outputs": [
    {
     "name": "stdout",
     "output_type": "stream",
     "text": [
      "<class 'pandas.core.frame.DataFrame'>\n",
      "RangeIndex: 14606 entries, 0 to 14605\n",
      "Data columns (total 26 columns):\n",
      " #   Column                          Non-Null Count  Dtype  \n",
      "---  ------                          --------------  -----  \n",
      " 0   id                              14606 non-null  object \n",
      " 1   channel_sales                   14606 non-null  object \n",
      " 2   cons_12m                        14606 non-null  int64  \n",
      " 3   cons_gas_12m                    14606 non-null  int64  \n",
      " 4   cons_last_month                 14606 non-null  int64  \n",
      " 5   date_activ                      14606 non-null  object \n",
      " 6   date_end                        14606 non-null  object \n",
      " 7   date_modif_prod                 14606 non-null  object \n",
      " 8   date_renewal                    14606 non-null  object \n",
      " 9   forecast_cons_12m               14606 non-null  float64\n",
      " 10  forecast_cons_year              14606 non-null  int64  \n",
      " 11  forecast_discount_energy        14606 non-null  float64\n",
      " 12  forecast_meter_rent_12m         14606 non-null  float64\n",
      " 13  forecast_price_energy_off_peak  14606 non-null  float64\n",
      " 14  forecast_price_energy_peak      14606 non-null  float64\n",
      " 15  forecast_price_pow_off_peak     14606 non-null  float64\n",
      " 16  has_gas                         14606 non-null  object \n",
      " 17  imp_cons                        14606 non-null  float64\n",
      " 18  margin_gross_pow_ele            14606 non-null  float64\n",
      " 19  margin_net_pow_ele              14606 non-null  float64\n",
      " 20  nb_prod_act                     14606 non-null  int64  \n",
      " 21  net_margin                      14606 non-null  float64\n",
      " 22  num_years_antig                 14606 non-null  int64  \n",
      " 23  origin_up                       14606 non-null  object \n",
      " 24  pow_max                         14606 non-null  float64\n",
      " 25  churn                           14606 non-null  int64  \n",
      "dtypes: float64(11), int64(7), object(8)\n",
      "memory usage: 2.9+ MB\n"
     ]
    }
   ],
   "source": [
    "df_client.info()"
   ]
  },
  {
   "cell_type": "code",
   "execution_count": 6,
   "id": "439cb9d4",
   "metadata": {},
   "outputs": [
    {
     "name": "stdout",
     "output_type": "stream",
     "text": [
      "<class 'pandas.core.frame.DataFrame'>\n",
      "RangeIndex: 193002 entries, 0 to 193001\n",
      "Data columns (total 8 columns):\n",
      " #   Column              Non-Null Count   Dtype  \n",
      "---  ------              --------------   -----  \n",
      " 0   id                  193002 non-null  object \n",
      " 1   price_date          193002 non-null  object \n",
      " 2   price_off_peak_var  193002 non-null  float64\n",
      " 3   price_peak_var      193002 non-null  float64\n",
      " 4   price_mid_peak_var  193002 non-null  float64\n",
      " 5   price_off_peak_fix  193002 non-null  float64\n",
      " 6   price_peak_fix      193002 non-null  float64\n",
      " 7   price_mid_peak_fix  193002 non-null  float64\n",
      "dtypes: float64(6), object(2)\n",
      "memory usage: 11.8+ MB\n"
     ]
    }
   ],
   "source": [
    "df_price.info()"
   ]
  },
  {
   "cell_type": "code",
   "execution_count": 7,
   "id": "88861c22",
   "metadata": {},
   "outputs": [
    {
     "data": {
      "text/plain": [
       "id                                0\n",
       "channel_sales                     0\n",
       "cons_12m                          0\n",
       "cons_gas_12m                      0\n",
       "cons_last_month                   0\n",
       "date_activ                        0\n",
       "date_end                          0\n",
       "date_modif_prod                   0\n",
       "date_renewal                      0\n",
       "forecast_cons_12m                 0\n",
       "forecast_cons_year                0\n",
       "forecast_discount_energy          0\n",
       "forecast_meter_rent_12m           0\n",
       "forecast_price_energy_off_peak    0\n",
       "forecast_price_energy_peak        0\n",
       "forecast_price_pow_off_peak       0\n",
       "has_gas                           0\n",
       "imp_cons                          0\n",
       "margin_gross_pow_ele              0\n",
       "margin_net_pow_ele                0\n",
       "nb_prod_act                       0\n",
       "net_margin                        0\n",
       "num_years_antig                   0\n",
       "origin_up                         0\n",
       "pow_max                           0\n",
       "churn                             0\n",
       "dtype: int64"
      ]
     },
     "execution_count": 7,
     "metadata": {},
     "output_type": "execute_result"
    }
   ],
   "source": [
    "df_client.isnull().sum()"
   ]
  },
  {
   "cell_type": "code",
   "execution_count": 8,
   "id": "8c766061",
   "metadata": {},
   "outputs": [
    {
     "data": {
      "text/plain": [
       "id                    0\n",
       "price_date            0\n",
       "price_off_peak_var    0\n",
       "price_peak_var        0\n",
       "price_mid_peak_var    0\n",
       "price_off_peak_fix    0\n",
       "price_peak_fix        0\n",
       "price_mid_peak_fix    0\n",
       "dtype: int64"
      ]
     },
     "execution_count": 8,
     "metadata": {},
     "output_type": "execute_result"
    }
   ],
   "source": [
    "df_price.isnull().sum()"
   ]
  },
  {
   "cell_type": "markdown",
   "id": "c025c552",
   "metadata": {},
   "source": [
    "No missing entry"
   ]
  },
  {
   "cell_type": "code",
   "execution_count": 9,
   "id": "0adfd86c",
   "metadata": {},
   "outputs": [
    {
     "data": {
      "text/plain": [
       "id                                14606\n",
       "channel_sales                         8\n",
       "cons_12m                          11065\n",
       "cons_gas_12m                       2112\n",
       "cons_last_month                    4751\n",
       "date_activ                         1796\n",
       "date_end                            368\n",
       "date_modif_prod                    2129\n",
       "date_renewal                        386\n",
       "forecast_cons_12m                 13993\n",
       "forecast_cons_year                 4218\n",
       "forecast_discount_energy             12\n",
       "forecast_meter_rent_12m            3528\n",
       "forecast_price_energy_off_peak      516\n",
       "forecast_price_energy_peak          329\n",
       "forecast_price_pow_off_peak          41\n",
       "has_gas                               2\n",
       "imp_cons                           7752\n",
       "margin_gross_pow_ele               2391\n",
       "margin_net_pow_ele                 2391\n",
       "nb_prod_act                          10\n",
       "net_margin                        11965\n",
       "num_years_antig                      13\n",
       "origin_up                             6\n",
       "pow_max                             698\n",
       "churn                                 2\n",
       "dtype: int64"
      ]
     },
     "execution_count": 9,
     "metadata": {},
     "output_type": "execute_result"
    }
   ],
   "source": [
    "df_client.nunique()"
   ]
  },
  {
   "cell_type": "code",
   "execution_count": 10,
   "id": "70e91572",
   "metadata": {},
   "outputs": [
    {
     "data": {
      "text/plain": [
       "id                    16096\n",
       "price_date               12\n",
       "price_off_peak_var     1853\n",
       "price_peak_var         1189\n",
       "price_mid_peak_var      711\n",
       "price_off_peak_fix       66\n",
       "price_peak_fix           31\n",
       "price_mid_peak_fix       28\n",
       "dtype: int64"
      ]
     },
     "execution_count": 10,
     "metadata": {},
     "output_type": "execute_result"
    }
   ],
   "source": [
    "df_price.nunique()"
   ]
  },
  {
   "cell_type": "code",
   "execution_count": 11,
   "id": "07a78ed5",
   "metadata": {},
   "outputs": [
    {
     "data": {
      "text/plain": [
       "array(['2015-01-01', '2015-02-01', '2015-03-01', '2015-04-01',\n",
       "       '2015-05-01', '2015-06-01', '2015-07-01', '2015-08-01',\n",
       "       '2015-09-01', '2015-10-01', '2015-11-01', '2015-12-01'],\n",
       "      dtype=object)"
      ]
     },
     "execution_count": 11,
     "metadata": {},
     "output_type": "execute_result"
    }
   ],
   "source": [
    "df_price['price_date'].unique()"
   ]
  },
  {
   "cell_type": "markdown",
   "id": "7181a6cd",
   "metadata": {},
   "source": [
    "The price of electricity/power is deteremined every first day of the month."
   ]
  },
  {
   "cell_type": "code",
   "execution_count": 12,
   "id": "4bd33382",
   "metadata": {},
   "outputs": [
    {
     "data": {
      "text/plain": [
       "Text(1, 1419, 'Yes Churn 9.72%')"
      ]
     },
     "execution_count": 12,
     "metadata": {},
     "output_type": "execute_result"
    },
    {
     "data": {
      "image/png": "[encoded data removed]",
      "text/plain": [
       "<Figure size 432x288 with 1 Axes>"
      ]
     },
     "metadata": {
      "needs_background": "light"
     },
     "output_type": "display_data"
    }
   ],
   "source": [
    "# Churnning percentage churn value 0 -> No churn , value 1 -> Yes churn\n",
    "\n",
    "no_churn = df_client.value_counts('churn')[0]\n",
    "yes_churn = df_client.value_counts('churn')[1]\n",
    "total_churn = len(df_client)\n",
    "\n",
    "sns.countplot(data=df_client, x='churn', )\n",
    "plt.text(0,no_churn,f'No Churn {100*no_churn/total_churn:.2f}%',va='bottom',ha='center')\n",
    "plt.text(1,yes_churn,f'Yes Churn {100*yes_churn/total_churn:.2f}%',va='bottom',ha='center')"
   ]
  },
  {
   "cell_type": "markdown",
   "id": "4416034d",
   "metadata": {},
   "source": [
    "## Part 1.1. Check the statistics of Numeric Features."
   ]
  },
  {
   "cell_type": "markdown",
   "id": "4c7b7c36",
   "metadata": {},
   "source": [
    "### Client Data"
   ]
  },
  {
   "cell_type": "code",
   "execution_count": 13,
   "id": "67ee6217",
   "metadata": {},
   "outputs": [
    {
     "data": {
      "text/html": [
       "<div>\n",
       "<style scoped>\n",
       "    .dataframe tbody tr th:only-of-type {\n",
       "        vertical-align: middle;\n",
       "    }\n",
       "\n",
       "    .dataframe tbody tr th {\n",
       "        vertical-align: top;\n",
       "    }\n",
       "\n",
       "    .dataframe thead th {\n",
       "        text-align: right;\n",
       "    }\n",
       "</style>\n",
       "<table border=\"1\" class=\"dataframe\">\n",
       "  <thead>\n",
       "    <tr style=\"text-align: right;\">\n",
       "      <th></th>\n",
       "      <th>count</th>\n",
       "      <th>mean</th>\n",
       "      <th>std</th>\n",
       "      <th>min</th>\n",
       "      <th>25%</th>\n",
       "      <th>50%</th>\n",
       "      <th>75%</th>\n",
       "      <th>max</th>\n",
       "    </tr>\n",
       "  </thead>\n",
       "  <tbody>\n",
       "    <tr>\n",
       "      <th>cons_12m</th>\n",
       "      <td>14606.0</td>\n",
       "      <td>159220.286252</td>\n",
       "      <td>573465.264198</td>\n",
       "      <td>0.0</td>\n",
       "      <td>5674.750000</td>\n",
       "      <td>14115.500000</td>\n",
       "      <td>40763.750000</td>\n",
       "      <td>6.207104e+06</td>\n",
       "    </tr>\n",
       "    <tr>\n",
       "      <th>cons_gas_12m</th>\n",
       "      <td>14606.0</td>\n",
       "      <td>28092.375325</td>\n",
       "      <td>162973.059057</td>\n",
       "      <td>0.0</td>\n",
       "      <td>0.000000</td>\n",
       "      <td>0.000000</td>\n",
       "      <td>0.000000</td>\n",
       "      <td>4.154590e+06</td>\n",
       "    </tr>\n",
       "    <tr>\n",
       "      <th>cons_last_month</th>\n",
       "      <td>14606.0</td>\n",
       "      <td>16090.269752</td>\n",
       "      <td>64364.196422</td>\n",
       "      <td>0.0</td>\n",
       "      <td>0.000000</td>\n",
       "      <td>792.500000</td>\n",
       "      <td>3383.000000</td>\n",
       "      <td>7.712030e+05</td>\n",
       "    </tr>\n",
       "    <tr>\n",
       "      <th>forecast_cons_12m</th>\n",
       "      <td>14606.0</td>\n",
       "      <td>1868.614880</td>\n",
       "      <td>2387.571531</td>\n",
       "      <td>0.0</td>\n",
       "      <td>494.995000</td>\n",
       "      <td>1112.875000</td>\n",
       "      <td>2401.790000</td>\n",
       "      <td>8.290283e+04</td>\n",
       "    </tr>\n",
       "    <tr>\n",
       "      <th>forecast_cons_year</th>\n",
       "      <td>14606.0</td>\n",
       "      <td>1399.762906</td>\n",
       "      <td>3247.786255</td>\n",
       "      <td>0.0</td>\n",
       "      <td>0.000000</td>\n",
       "      <td>314.000000</td>\n",
       "      <td>1745.750000</td>\n",
       "      <td>1.753750e+05</td>\n",
       "    </tr>\n",
       "    <tr>\n",
       "      <th>forecast_discount_energy</th>\n",
       "      <td>14606.0</td>\n",
       "      <td>0.966726</td>\n",
       "      <td>5.108289</td>\n",
       "      <td>0.0</td>\n",
       "      <td>0.000000</td>\n",
       "      <td>0.000000</td>\n",
       "      <td>0.000000</td>\n",
       "      <td>3.000000e+01</td>\n",
       "    </tr>\n",
       "    <tr>\n",
       "      <th>forecast_meter_rent_12m</th>\n",
       "      <td>14606.0</td>\n",
       "      <td>63.086871</td>\n",
       "      <td>66.165783</td>\n",
       "      <td>0.0</td>\n",
       "      <td>16.180000</td>\n",
       "      <td>18.795000</td>\n",
       "      <td>131.030000</td>\n",
       "      <td>5.993100e+02</td>\n",
       "    </tr>\n",
       "    <tr>\n",
       "      <th>forecast_price_energy_off_peak</th>\n",
       "      <td>14606.0</td>\n",
       "      <td>0.137283</td>\n",
       "      <td>0.024623</td>\n",
       "      <td>0.0</td>\n",
       "      <td>0.116340</td>\n",
       "      <td>0.143166</td>\n",
       "      <td>0.146348</td>\n",
       "      <td>2.739630e-01</td>\n",
       "    </tr>\n",
       "    <tr>\n",
       "      <th>forecast_price_energy_peak</th>\n",
       "      <td>14606.0</td>\n",
       "      <td>0.050491</td>\n",
       "      <td>0.049037</td>\n",
       "      <td>0.0</td>\n",
       "      <td>0.000000</td>\n",
       "      <td>0.084138</td>\n",
       "      <td>0.098837</td>\n",
       "      <td>1.959750e-01</td>\n",
       "    </tr>\n",
       "    <tr>\n",
       "      <th>forecast_price_pow_off_peak</th>\n",
       "      <td>14606.0</td>\n",
       "      <td>43.130056</td>\n",
       "      <td>4.485988</td>\n",
       "      <td>0.0</td>\n",
       "      <td>40.606701</td>\n",
       "      <td>44.311378</td>\n",
       "      <td>44.311378</td>\n",
       "      <td>5.926638e+01</td>\n",
       "    </tr>\n",
       "    <tr>\n",
       "      <th>imp_cons</th>\n",
       "      <td>14606.0</td>\n",
       "      <td>152.786896</td>\n",
       "      <td>341.369366</td>\n",
       "      <td>0.0</td>\n",
       "      <td>0.000000</td>\n",
       "      <td>37.395000</td>\n",
       "      <td>193.980000</td>\n",
       "      <td>1.504279e+04</td>\n",
       "    </tr>\n",
       "    <tr>\n",
       "      <th>margin_gross_pow_ele</th>\n",
       "      <td>14606.0</td>\n",
       "      <td>24.565121</td>\n",
       "      <td>20.231172</td>\n",
       "      <td>0.0</td>\n",
       "      <td>14.280000</td>\n",
       "      <td>21.640000</td>\n",
       "      <td>29.880000</td>\n",
       "      <td>3.746400e+02</td>\n",
       "    </tr>\n",
       "    <tr>\n",
       "      <th>margin_net_pow_ele</th>\n",
       "      <td>14606.0</td>\n",
       "      <td>24.562517</td>\n",
       "      <td>20.230280</td>\n",
       "      <td>0.0</td>\n",
       "      <td>14.280000</td>\n",
       "      <td>21.640000</td>\n",
       "      <td>29.880000</td>\n",
       "      <td>3.746400e+02</td>\n",
       "    </tr>\n",
       "    <tr>\n",
       "      <th>nb_prod_act</th>\n",
       "      <td>14606.0</td>\n",
       "      <td>1.292346</td>\n",
       "      <td>0.709774</td>\n",
       "      <td>1.0</td>\n",
       "      <td>1.000000</td>\n",
       "      <td>1.000000</td>\n",
       "      <td>1.000000</td>\n",
       "      <td>3.200000e+01</td>\n",
       "    </tr>\n",
       "    <tr>\n",
       "      <th>net_margin</th>\n",
       "      <td>14606.0</td>\n",
       "      <td>189.264522</td>\n",
       "      <td>311.798130</td>\n",
       "      <td>0.0</td>\n",
       "      <td>50.712500</td>\n",
       "      <td>112.530000</td>\n",
       "      <td>243.097500</td>\n",
       "      <td>2.457065e+04</td>\n",
       "    </tr>\n",
       "    <tr>\n",
       "      <th>num_years_antig</th>\n",
       "      <td>14606.0</td>\n",
       "      <td>4.997809</td>\n",
       "      <td>1.611749</td>\n",
       "      <td>1.0</td>\n",
       "      <td>4.000000</td>\n",
       "      <td>5.000000</td>\n",
       "      <td>6.000000</td>\n",
       "      <td>1.300000e+01</td>\n",
       "    </tr>\n",
       "    <tr>\n",
       "      <th>pow_max</th>\n",
       "      <td>14606.0</td>\n",
       "      <td>18.135136</td>\n",
       "      <td>13.534743</td>\n",
       "      <td>3.3</td>\n",
       "      <td>12.500000</td>\n",
       "      <td>13.856000</td>\n",
       "      <td>19.172500</td>\n",
       "      <td>3.200000e+02</td>\n",
       "    </tr>\n",
       "    <tr>\n",
       "      <th>churn</th>\n",
       "      <td>14606.0</td>\n",
       "      <td>0.097152</td>\n",
       "      <td>0.296175</td>\n",
       "      <td>0.0</td>\n",
       "      <td>0.000000</td>\n",
       "      <td>0.000000</td>\n",
       "      <td>0.000000</td>\n",
       "      <td>1.000000e+00</td>\n",
       "    </tr>\n",
       "  </tbody>\n",
       "</table>\n",
       "</div>"
      ],
      "text/plain": [
       "                                  count           mean            std  min  \\\n",
       "cons_12m                        14606.0  159220.286252  573465.264198  0.0   \n",
       "cons_gas_12m                    14606.0   28092.375325  162973.059057  0.0   \n",
       "cons_last_month                 14606.0   16090.269752   64364.196422  0.0   \n",
       "forecast_cons_12m               14606.0    1868.614880    2387.571531  0.0   \n",
       "forecast_cons_year              14606.0    1399.762906    3247.786255  0.0   \n",
       "forecast_discount_energy        14606.0       0.966726       5.108289  0.0   \n",
       "forecast_meter_rent_12m         14606.0      63.086871      66.165783  0.0   \n",
       "forecast_price_energy_off_peak  14606.0       0.137283       0.024623  0.0   \n",
       "forecast_price_energy_peak      14606.0       0.050491       0.049037  0.0   \n",
       "forecast_price_pow_off_peak     14606.0      43.130056       4.485988  0.0   \n",
       "imp_cons                        14606.0     152.786896     341.369366  0.0   \n",
       "margin_gross_pow_ele            14606.0      24.565121      20.231172  0.0   \n",
       "margin_net_pow_ele              14606.0      24.562517      20.230280  0.0   \n",
       "nb_prod_act                     14606.0       1.292346       0.709774  1.0   \n",
       "net_margin                      14606.0     189.264522     311.798130  0.0   \n",
       "num_years_antig                 14606.0       4.997809       1.611749  1.0   \n",
       "pow_max                         14606.0      18.135136      13.534743  3.3   \n",
       "churn                           14606.0       0.097152       0.296175  0.0   \n",
       "\n",
       "                                        25%           50%           75%  \\\n",
       "cons_12m                        5674.750000  14115.500000  40763.750000   \n",
       "cons_gas_12m                       0.000000      0.000000      0.000000   \n",
       "cons_last_month                    0.000000    792.500000   3383.000000   \n",
       "forecast_cons_12m                494.995000   1112.875000   2401.790000   \n",
       "forecast_cons_year                 0.000000    314.000000   1745.750000   \n",
       "forecast_discount_energy           0.000000      0.000000      0.000000   \n",
       "forecast_meter_rent_12m           16.180000     18.795000    131.030000   \n",
       "forecast_price_energy_off_peak     0.116340      0.143166      0.146348   \n",
       "forecast_price_energy_peak         0.000000      0.084138      0.098837   \n",
       "forecast_price_pow_off_peak       40.606701     44.311378     44.311378   \n",
       "imp_cons                           0.000000     37.395000    193.980000   \n",
       "margin_gross_pow_ele              14.280000     21.640000     29.880000   \n",
       "margin_net_pow_ele                14.280000     21.640000     29.880000   \n",
       "nb_prod_act                        1.000000      1.000000      1.000000   \n",
       "net_margin                        50.712500    112.530000    243.097500   \n",
       "num_years_antig                    4.000000      5.000000      6.000000   \n",
       "pow_max                           12.500000     13.856000     19.172500   \n",
       "churn                              0.000000      0.000000      0.000000   \n",
       "\n",
       "                                         max  \n",
       "cons_12m                        6.207104e+06  \n",
       "cons_gas_12m                    4.154590e+06  \n",
       "cons_last_month                 7.712030e+05  \n",
       "forecast_cons_12m               8.290283e+04  \n",
       "forecast_cons_year              1.753750e+05  \n",
       "forecast_discount_energy        3.000000e+01  \n",
       "forecast_meter_rent_12m         5.993100e+02  \n",
       "forecast_price_energy_off_peak  2.739630e-01  \n",
       "forecast_price_energy_peak      1.959750e-01  \n",
       "forecast_price_pow_off_peak     5.926638e+01  \n",
       "imp_cons                        1.504279e+04  \n",
       "margin_gross_pow_ele            3.746400e+02  \n",
       "margin_net_pow_ele              3.746400e+02  \n",
       "nb_prod_act                     3.200000e+01  \n",
       "net_margin                      2.457065e+04  \n",
       "num_years_antig                 1.300000e+01  \n",
       "pow_max                         3.200000e+02  \n",
       "churn                           1.000000e+00  "
      ]
     },
     "execution_count": 13,
     "metadata": {},
     "output_type": "execute_result"
    }
   ],
   "source": [
    "df_client.describe().transpose()"
   ]
  },
  {
   "cell_type": "markdown",
   "id": "de0ac20f",
   "metadata": {},
   "source": [
    "### Q1. \n",
    "The statistics between \"margin_gross_pow_ele\" and \"margin_net_pow_ele\" looks extremely the same. Investigate more about them.\n",
    "* Gross Margin: (Net sales - COGS)/Net sales; COGS: expenses directly related to creation of product\n",
    "* Net Margin: (Net Profit - Net expenses) / Net Profit; Profit and expenses not only limited to the product (interest, taxes, operation costs, etc.)\n",
    "\n",
    "Guess most of their profit/expenses arises from energy related sales and that is why those two are basically the same"
   ]
  },
  {
   "cell_type": "code",
   "execution_count": 14,
   "id": "e6dc2508",
   "metadata": {},
   "outputs": [
    {
     "data": {
      "text/html": [
       "<div>\n",
       "<style scoped>\n",
       "    .dataframe tbody tr th:only-of-type {\n",
       "        vertical-align: middle;\n",
       "    }\n",
       "\n",
       "    .dataframe tbody tr th {\n",
       "        vertical-align: top;\n",
       "    }\n",
       "\n",
       "    .dataframe thead th {\n",
       "        text-align: right;\n",
       "    }\n",
       "</style>\n",
       "<table border=\"1\" class=\"dataframe\">\n",
       "  <thead>\n",
       "    <tr style=\"text-align: right;\">\n",
       "      <th></th>\n",
       "      <th>margin_gross_pow_ele</th>\n",
       "      <th>margin_net_pow_ele</th>\n",
       "    </tr>\n",
       "  </thead>\n",
       "  <tbody>\n",
       "    <tr>\n",
       "      <th>4876</th>\n",
       "      <td>64.28</td>\n",
       "      <td>57.59</td>\n",
       "    </tr>\n",
       "    <tr>\n",
       "      <th>10756</th>\n",
       "      <td>40.88</td>\n",
       "      <td>9.54</td>\n",
       "    </tr>\n",
       "  </tbody>\n",
       "</table>\n",
       "</div>"
      ],
      "text/plain": [
       "       margin_gross_pow_ele  margin_net_pow_ele\n",
       "4876                  64.28               57.59\n",
       "10756                 40.88                9.54"
      ]
     },
     "execution_count": 14,
     "metadata": {},
     "output_type": "execute_result"
    }
   ],
   "source": [
    "df_client[df_client['margin_gross_pow_ele']!=df_client['margin_net_pow_ele']][[\"margin_gross_pow_ele\",\"margin_net_pow_ele\"]]"
   ]
  },
  {
   "cell_type": "markdown",
   "id": "a16eb6fc",
   "metadata": {},
   "source": [
    "#### Only two entries are different. I don't know what does this mean at this point. Should ask someone who knows well about accounting.\n",
    "\n",
    "#### Given that there are only two entries they have differnt margin_gross and margin_net. It is safe to get rid of one column."
   ]
  },
  {
   "cell_type": "markdown",
   "id": "bad1aac1",
   "metadata": {},
   "source": [
    "### Q2.\n",
    "A lot of zero entries in \"cons_gas_12m\" and \"forecast_discount_energy\". Latter is making sense if this company did not provide discount. Study more about \"cons_gas_12m\". Is it related to \"has_gas\" column?"
   ]
  },
  {
   "cell_type": "code",
   "execution_count": 15,
   "id": "95660ff5",
   "metadata": {},
   "outputs": [
    {
     "data": {
      "text/plain": [
       "0.9955667084901715"
      ]
     },
     "execution_count": 15,
     "metadata": {},
     "output_type": "execute_result"
    }
   ],
   "source": [
    "df_client[df_client['has_gas']=='f']['cons_gas_12m'].value_counts()[0]/df_client[df_client['has_gas']=='f']['cons_gas_12m'].value_counts().sum()"
   ]
  },
  {
   "cell_type": "markdown",
   "id": "c3b49d17",
   "metadata": {},
   "source": [
    "99.6 % are zeros."
   ]
  },
  {
   "cell_type": "code",
   "execution_count": 16,
   "id": "a3ba0a99",
   "metadata": {},
   "outputs": [
    {
     "data": {
      "text/plain": [
       "0.03470388532629196"
      ]
     },
     "execution_count": 16,
     "metadata": {},
     "output_type": "execute_result"
    }
   ],
   "source": [
    "df_client[df_client['has_gas']=='t']['cons_gas_12m'].value_counts()[0]/df_client[df_client['has_gas']=='t']['cons_gas_12m'].value_counts().sum()"
   ]
  },
  {
   "cell_type": "markdown",
   "id": "cc9fa5aa",
   "metadata": {},
   "source": [
    "3.5% are zeros"
   ]
  },
  {
   "cell_type": "markdown",
   "id": "096cfdfc",
   "metadata": {},
   "source": [
    "### Price data\n",
    "\n",
    "Definitely need more description. What is the difference between price of Energy (_var) vs price of Power (_fix)? Power corresponds to electricity and Energy to gas? Are they supposed to be added up (fixed base + variable)? What do peak, mid_meak, and off_peak mean?"
   ]
  },
  {
   "cell_type": "code",
   "execution_count": 17,
   "id": "a8c0325d",
   "metadata": {},
   "outputs": [
    {
     "data": {
      "text/html": [
       "<div>\n",
       "<style scoped>\n",
       "    .dataframe tbody tr th:only-of-type {\n",
       "        vertical-align: middle;\n",
       "    }\n",
       "\n",
       "    .dataframe tbody tr th {\n",
       "        vertical-align: top;\n",
       "    }\n",
       "\n",
       "    .dataframe thead th {\n",
       "        text-align: right;\n",
       "    }\n",
       "</style>\n",
       "<table border=\"1\" class=\"dataframe\">\n",
       "  <thead>\n",
       "    <tr style=\"text-align: right;\">\n",
       "      <th></th>\n",
       "      <th>count</th>\n",
       "      <th>mean</th>\n",
       "      <th>std</th>\n",
       "      <th>min</th>\n",
       "      <th>25%</th>\n",
       "      <th>50%</th>\n",
       "      <th>75%</th>\n",
       "      <th>max</th>\n",
       "    </tr>\n",
       "  </thead>\n",
       "  <tbody>\n",
       "    <tr>\n",
       "      <th>price_off_peak_var</th>\n",
       "      <td>193002.0</td>\n",
       "      <td>0.141027</td>\n",
       "      <td>0.025032</td>\n",
       "      <td>0.0</td>\n",
       "      <td>0.125976</td>\n",
       "      <td>0.146033</td>\n",
       "      <td>0.151635</td>\n",
       "      <td>0.280700</td>\n",
       "    </tr>\n",
       "    <tr>\n",
       "      <th>price_peak_var</th>\n",
       "      <td>193002.0</td>\n",
       "      <td>0.054630</td>\n",
       "      <td>0.049924</td>\n",
       "      <td>0.0</td>\n",
       "      <td>0.000000</td>\n",
       "      <td>0.085483</td>\n",
       "      <td>0.101673</td>\n",
       "      <td>0.229788</td>\n",
       "    </tr>\n",
       "    <tr>\n",
       "      <th>price_mid_peak_var</th>\n",
       "      <td>193002.0</td>\n",
       "      <td>0.030496</td>\n",
       "      <td>0.036298</td>\n",
       "      <td>0.0</td>\n",
       "      <td>0.000000</td>\n",
       "      <td>0.000000</td>\n",
       "      <td>0.072558</td>\n",
       "      <td>0.114102</td>\n",
       "    </tr>\n",
       "    <tr>\n",
       "      <th>price_off_peak_fix</th>\n",
       "      <td>193002.0</td>\n",
       "      <td>43.334477</td>\n",
       "      <td>5.410297</td>\n",
       "      <td>0.0</td>\n",
       "      <td>40.728885</td>\n",
       "      <td>44.266930</td>\n",
       "      <td>44.444710</td>\n",
       "      <td>59.444710</td>\n",
       "    </tr>\n",
       "    <tr>\n",
       "      <th>price_peak_fix</th>\n",
       "      <td>193002.0</td>\n",
       "      <td>10.622875</td>\n",
       "      <td>12.841895</td>\n",
       "      <td>0.0</td>\n",
       "      <td>0.000000</td>\n",
       "      <td>0.000000</td>\n",
       "      <td>24.339581</td>\n",
       "      <td>36.490692</td>\n",
       "    </tr>\n",
       "    <tr>\n",
       "      <th>price_mid_peak_fix</th>\n",
       "      <td>193002.0</td>\n",
       "      <td>6.409984</td>\n",
       "      <td>7.773592</td>\n",
       "      <td>0.0</td>\n",
       "      <td>0.000000</td>\n",
       "      <td>0.000000</td>\n",
       "      <td>16.226389</td>\n",
       "      <td>17.458221</td>\n",
       "    </tr>\n",
       "  </tbody>\n",
       "</table>\n",
       "</div>"
      ],
      "text/plain": [
       "                       count       mean        std  min        25%        50%  \\\n",
       "price_off_peak_var  193002.0   0.141027   0.025032  0.0   0.125976   0.146033   \n",
       "price_peak_var      193002.0   0.054630   0.049924  0.0   0.000000   0.085483   \n",
       "price_mid_peak_var  193002.0   0.030496   0.036298  0.0   0.000000   0.000000   \n",
       "price_off_peak_fix  193002.0  43.334477   5.410297  0.0  40.728885  44.266930   \n",
       "price_peak_fix      193002.0  10.622875  12.841895  0.0   0.000000   0.000000   \n",
       "price_mid_peak_fix  193002.0   6.409984   7.773592  0.0   0.000000   0.000000   \n",
       "\n",
       "                          75%        max  \n",
       "price_off_peak_var   0.151635   0.280700  \n",
       "price_peak_var       0.101673   0.229788  \n",
       "price_mid_peak_var   0.072558   0.114102  \n",
       "price_off_peak_fix  44.444710  59.444710  \n",
       "price_peak_fix      24.339581  36.490692  \n",
       "price_mid_peak_fix  16.226389  17.458221  "
      ]
     },
     "execution_count": 17,
     "metadata": {},
     "output_type": "execute_result"
    }
   ],
   "source": [
    "df_price.describe().transpose()"
   ]
  },
  {
   "cell_type": "markdown",
   "id": "ccfd366b",
   "metadata": {},
   "source": [
    "### Q1. Check if power and energy is something about electricity vs gas (Conclusion: No)\n",
    "A lot of zero entries again. Check the distribution of each columns."
   ]
  },
  {
   "cell_type": "code",
   "execution_count": 18,
   "id": "25a2916e",
   "metadata": {},
   "outputs": [],
   "source": [
    "def get_numerical(df):\n",
    "    \"\"\"\n",
    "    Function that returns the feature with integer or float entries\n",
    "    Return a list with string entries\n",
    "    \"\"\"\n",
    "    num_cols = []\n",
    "    for col in df.columns:\n",
    "        if df[col].dtypes == 'int64' or df[col].dtypes == 'float64':\n",
    "            num_cols.append(col)\n",
    "    return num_cols"
   ]
  },
  {
   "cell_type": "code",
   "execution_count": 19,
   "id": "fbad2cb5",
   "metadata": {},
   "outputs": [
    {
     "data": {
      "text/plain": [
       "<Figure size 1000x1000 with 0 Axes>"
      ]
     },
     "metadata": {},
     "output_type": "display_data"
    },
    {
     "data": {
      "image/png": "[encoded data removed]",
      "text/plain": [
       "<Figure size 360x360 with 1 Axes>"
      ]
     },
     "metadata": {
      "needs_background": "light"
     },
     "output_type": "display_data"
    },
    {
     "data": {
      "text/plain": [
       "<Figure size 1000x1000 with 0 Axes>"
      ]
     },
     "metadata": {},
     "output_type": "display_data"
    },
    {
     "data": {
      "image/png": "[encoded data removed]",
      "text/plain": [
       "<Figure size 360x360 with 1 Axes>"
      ]
     },
     "metadata": {
      "needs_background": "light"
     },
     "output_type": "display_data"
    },
    {
     "data": {
      "text/plain": [
       "<Figure size 1000x1000 with 0 Axes>"
      ]
     },
     "metadata": {},
     "output_type": "display_data"
    },
    {
     "data": {
      "image/png": "[encoded data removed]",
      "text/plain": [
       "<Figure size 360x360 with 1 Axes>"
      ]
     },
     "metadata": {
      "needs_background": "light"
     },
     "output_type": "display_data"
    },
    {
     "data": {
      "text/plain": [
       "<Figure size 1000x1000 with 0 Axes>"
      ]
     },
     "metadata": {},
     "output_type": "display_data"
    },
    {
     "data": {
      "image/png": "[encoded data removed]",
      "text/plain": [
       "<Figure size 360x360 with 1 Axes>"
      ]
     },
     "metadata": {
      "needs_background": "light"
     },
     "output_type": "display_data"
    },
    {
     "data": {
      "text/plain": [
       "<Figure size 1000x1000 with 0 Axes>"
      ]
     },
     "metadata": {},
     "output_type": "display_data"
    },
    {
     "data": {
      "image/png": "[encoded data removed]",
      "text/plain": [
       "<Figure size 360x360 with 1 Axes>"
      ]
     },
     "metadata": {
      "needs_background": "light"
     },
     "output_type": "display_data"
    },
    {
     "data": {
      "text/plain": [
       "<Figure size 1000x1000 with 0 Axes>"
      ]
     },
     "metadata": {},
     "output_type": "display_data"
    },
    {
     "data": {
      "image/png": "[encoded data removed]",
      "text/plain": [
       "<Figure size 360x360 with 1 Axes>"
      ]
     },
     "metadata": {
      "needs_background": "light"
     },
     "output_type": "display_data"
    }
   ],
   "source": [
    "num_cols = get_numerical(df_price)\n",
    "for col in num_cols:\n",
    "    plt.figure(figsize=(5,5), dpi=200)\n",
    "    sns.displot(df_price[col],bins=50)"
   ]
  },
  {
   "cell_type": "code",
   "execution_count": 20,
   "id": "0ba81fb6",
   "metadata": {},
   "outputs": [
    {
     "data": {
      "text/html": [
       "<div>\n",
       "<style scoped>\n",
       "    .dataframe tbody tr th:only-of-type {\n",
       "        vertical-align: middle;\n",
       "    }\n",
       "\n",
       "    .dataframe tbody tr th {\n",
       "        vertical-align: top;\n",
       "    }\n",
       "\n",
       "    .dataframe thead th {\n",
       "        text-align: right;\n",
       "    }\n",
       "</style>\n",
       "<table border=\"1\" class=\"dataframe\">\n",
       "  <thead>\n",
       "    <tr style=\"text-align: right;\">\n",
       "      <th></th>\n",
       "      <th>id</th>\n",
       "      <th>price_date</th>\n",
       "      <th>price_off_peak_var</th>\n",
       "      <th>price_peak_var</th>\n",
       "      <th>price_mid_peak_var</th>\n",
       "      <th>price_off_peak_fix</th>\n",
       "      <th>price_peak_fix</th>\n",
       "      <th>price_mid_peak_fix</th>\n",
       "      <th>has_gas</th>\n",
       "    </tr>\n",
       "  </thead>\n",
       "  <tbody>\n",
       "    <tr>\n",
       "      <th>0</th>\n",
       "      <td>038af19179925da21a25619c5a24b745</td>\n",
       "      <td>2015-01-01</td>\n",
       "      <td>0.151367</td>\n",
       "      <td>0.0</td>\n",
       "      <td>0.0</td>\n",
       "      <td>44.266931</td>\n",
       "      <td>0.0</td>\n",
       "      <td>0.0</td>\n",
       "      <td>f</td>\n",
       "    </tr>\n",
       "    <tr>\n",
       "      <th>1</th>\n",
       "      <td>038af19179925da21a25619c5a24b745</td>\n",
       "      <td>2015-02-01</td>\n",
       "      <td>0.151367</td>\n",
       "      <td>0.0</td>\n",
       "      <td>0.0</td>\n",
       "      <td>44.266931</td>\n",
       "      <td>0.0</td>\n",
       "      <td>0.0</td>\n",
       "      <td>f</td>\n",
       "    </tr>\n",
       "    <tr>\n",
       "      <th>2</th>\n",
       "      <td>038af19179925da21a25619c5a24b745</td>\n",
       "      <td>2015-03-01</td>\n",
       "      <td>0.151367</td>\n",
       "      <td>0.0</td>\n",
       "      <td>0.0</td>\n",
       "      <td>44.266931</td>\n",
       "      <td>0.0</td>\n",
       "      <td>0.0</td>\n",
       "      <td>f</td>\n",
       "    </tr>\n",
       "    <tr>\n",
       "      <th>3</th>\n",
       "      <td>038af19179925da21a25619c5a24b745</td>\n",
       "      <td>2015-04-01</td>\n",
       "      <td>0.149626</td>\n",
       "      <td>0.0</td>\n",
       "      <td>0.0</td>\n",
       "      <td>44.266931</td>\n",
       "      <td>0.0</td>\n",
       "      <td>0.0</td>\n",
       "      <td>f</td>\n",
       "    </tr>\n",
       "    <tr>\n",
       "      <th>4</th>\n",
       "      <td>038af19179925da21a25619c5a24b745</td>\n",
       "      <td>2015-05-01</td>\n",
       "      <td>0.149626</td>\n",
       "      <td>0.0</td>\n",
       "      <td>0.0</td>\n",
       "      <td>44.266931</td>\n",
       "      <td>0.0</td>\n",
       "      <td>0.0</td>\n",
       "      <td>f</td>\n",
       "    </tr>\n",
       "  </tbody>\n",
       "</table>\n",
       "</div>"
      ],
      "text/plain": [
       "                                 id  price_date  price_off_peak_var  \\\n",
       "0  038af19179925da21a25619c5a24b745  2015-01-01            0.151367   \n",
       "1  038af19179925da21a25619c5a24b745  2015-02-01            0.151367   \n",
       "2  038af19179925da21a25619c5a24b745  2015-03-01            0.151367   \n",
       "3  038af19179925da21a25619c5a24b745  2015-04-01            0.149626   \n",
       "4  038af19179925da21a25619c5a24b745  2015-05-01            0.149626   \n",
       "\n",
       "   price_peak_var  price_mid_peak_var  price_off_peak_fix  price_peak_fix  \\\n",
       "0             0.0                 0.0           44.266931             0.0   \n",
       "1             0.0                 0.0           44.266931             0.0   \n",
       "2             0.0                 0.0           44.266931             0.0   \n",
       "3             0.0                 0.0           44.266931             0.0   \n",
       "4             0.0                 0.0           44.266931             0.0   \n",
       "\n",
       "   price_mid_peak_fix has_gas  \n",
       "0                 0.0       f  \n",
       "1                 0.0       f  \n",
       "2                 0.0       f  \n",
       "3                 0.0       f  \n",
       "4                 0.0       f  "
      ]
     },
     "execution_count": 20,
     "metadata": {},
     "output_type": "execute_result"
    }
   ],
   "source": [
    "# Correlated with the gas service?\n",
    "temp_price = pd.merge(left=df_price, right=df_client[['id','has_gas']], on='id')\n",
    "\n",
    "temp_price.head()"
   ]
  },
  {
   "cell_type": "code",
   "execution_count": 21,
   "id": "78bcb49a",
   "metadata": {},
   "outputs": [
    {
     "data": {
      "text/plain": [
       "<Figure size 1000x1000 with 0 Axes>"
      ]
     },
     "metadata": {},
     "output_type": "display_data"
    },
    {
     "data": {
      "image/png": "[encoded data removed]",
      "text/plain": [
       "<Figure size 360x360 with 1 Axes>"
      ]
     },
     "metadata": {
      "needs_background": "light"
     },
     "output_type": "display_data"
    },
    {
     "data": {
      "text/plain": [
       "<Figure size 1000x1000 with 0 Axes>"
      ]
     },
     "metadata": {},
     "output_type": "display_data"
    },
    {
     "data": {
      "image/png": "[encoded data removed]",
      "text/plain": [
       "<Figure size 360x360 with 1 Axes>"
      ]
     },
     "metadata": {
      "needs_background": "light"
     },
     "output_type": "display_data"
    },
    {
     "data": {
      "text/plain": [
       "<Figure size 1000x1000 with 0 Axes>"
      ]
     },
     "metadata": {},
     "output_type": "display_data"
    },
    {
     "data": {
      "image/png": "[encoded data removed]",
      "text/plain": [
       "<Figure size 360x360 with 1 Axes>"
      ]
     },
     "metadata": {
      "needs_background": "light"
     },
     "output_type": "display_data"
    },
    {
     "data": {
      "text/plain": [
       "<Figure size 1000x1000 with 0 Axes>"
      ]
     },
     "metadata": {},
     "output_type": "display_data"
    },
    {
     "data": {
      "image/png": "[encoded data removed]",
      "text/plain": [
       "<Figure size 360x360 with 1 Axes>"
      ]
     },
     "metadata": {
      "needs_background": "light"
     },
     "output_type": "display_data"
    },
    {
     "data": {
      "text/plain": [
       "<Figure size 1000x1000 with 0 Axes>"
      ]
     },
     "metadata": {},
     "output_type": "display_data"
    },
    {
     "data": {
      "image/png": "[encoded data removed]",
      "text/plain": [
       "<Figure size 360x360 with 1 Axes>"
      ]
     },
     "metadata": {
      "needs_background": "light"
     },
     "output_type": "display_data"
    },
    {
     "data": {
      "text/plain": [
       "<Figure size 1000x1000 with 0 Axes>"
      ]
     },
     "metadata": {},
     "output_type": "display_data"
    },
    {
     "data": {
      "image/png": "[encoded data removed]",
      "text/plain": [
       "<Figure size 360x360 with 1 Axes>"
      ]
     },
     "metadata": {
      "needs_background": "light"
     },
     "output_type": "display_data"
    }
   ],
   "source": [
    "for col in num_cols:\n",
    "    plt.figure(figsize=(5,5), dpi=200)\n",
    "    sns.displot(temp_price[temp_price['has_gas']=='t'][col],bins=50)"
   ]
  },
  {
   "cell_type": "code",
   "execution_count": 22,
   "id": "2efe4f93",
   "metadata": {},
   "outputs": [
    {
     "data": {
      "text/plain": [
       "<Figure size 1000x1000 with 0 Axes>"
      ]
     },
     "metadata": {},
     "output_type": "display_data"
    },
    {
     "data": {
      "image/png": "[encoded data removed]",
      "text/plain": [
       "<Figure size 360x360 with 1 Axes>"
      ]
     },
     "metadata": {
      "needs_background": "light"
     },
     "output_type": "display_data"
    },
    {
     "data": {
      "text/plain": [
       "<Figure size 1000x1000 with 0 Axes>"
      ]
     },
     "metadata": {},
     "output_type": "display_data"
    },
    {
     "data": {
      "image/png": "[encoded data removed]",
      "text/plain": [
       "<Figure size 360x360 with 1 Axes>"
      ]
     },
     "metadata": {
      "needs_background": "light"
     },
     "output_type": "display_data"
    },
    {
     "data": {
      "text/plain": [
       "<Figure size 1000x1000 with 0 Axes>"
      ]
     },
     "metadata": {},
     "output_type": "display_data"
    },
    {
     "data": {
      "image/png": "[encoded data removed]",
      "text/plain": [
       "<Figure size 360x360 with 1 Axes>"
      ]
     },
     "metadata": {
      "needs_background": "light"
     },
     "output_type": "display_data"
    },
    {
     "data": {
      "text/plain": [
       "<Figure size 1000x1000 with 0 Axes>"
      ]
     },
     "metadata": {},
     "output_type": "display_data"
    },
    {
     "data": {
      "image/png": "[encoded data removed]",
      "text/plain": [
       "<Figure size 360x360 with 1 Axes>"
      ]
     },
     "metadata": {
      "needs_background": "light"
     },
     "output_type": "display_data"
    },
    {
     "data": {
      "text/plain": [
       "<Figure size 1000x1000 with 0 Axes>"
      ]
     },
     "metadata": {},
     "output_type": "display_data"
    },
    {
     "data": {
      "image/png": "[encoded data removed]",
      "text/plain": [
       "<Figure size 360x360 with 1 Axes>"
      ]
     },
     "metadata": {
      "needs_background": "light"
     },
     "output_type": "display_data"
    },
    {
     "data": {
      "text/plain": [
       "<Figure size 1000x1000 with 0 Axes>"
      ]
     },
     "metadata": {},
     "output_type": "display_data"
    },
    {
     "data": {
      "image/png": "[encoded data removed]",
      "text/plain": [
       "<Figure size 360x360 with 1 Axes>"
      ]
     },
     "metadata": {
      "needs_background": "light"
     },
     "output_type": "display_data"
    }
   ],
   "source": [
    "for col in num_cols:\n",
    "    plt.figure(figsize=(5,5), dpi=200)\n",
    "    sns.displot(temp_price[temp_price['has_gas']=='f'][col],bins=50)"
   ]
  },
  {
   "cell_type": "markdown",
   "id": "57d5d4c9",
   "metadata": {},
   "source": [
    "No clear relation between \"has_gas\" vs 0 entries.\n",
    "\n",
    "Clients are not just buying that category. (price_peak_var, price_mid_peak_var, price_peak_fix, price_mid_peak_fix)"
   ]
  },
  {
   "cell_type": "markdown",
   "id": "6c5f0804",
   "metadata": {},
   "source": [
    "### Q2 Should _fix and _var be added up?\n",
    "Cannot have clear answer at this point. Let's just use mean value for each category as price feature.\n",
    "The price of the latest month can also be relevant to the churn status.\n",
    "\n",
    "### Price defined by Mean of each category\n"
   ]
  },
  {
   "cell_type": "code",
   "execution_count": 23,
   "id": "0b16bb7b",
   "metadata": {},
   "outputs": [
    {
     "data": {
      "text/html": [
       "<div>\n",
       "<style scoped>\n",
       "    .dataframe tbody tr th:only-of-type {\n",
       "        vertical-align: middle;\n",
       "    }\n",
       "\n",
       "    .dataframe tbody tr th {\n",
       "        vertical-align: top;\n",
       "    }\n",
       "\n",
       "    .dataframe thead th {\n",
       "        text-align: right;\n",
       "    }\n",
       "</style>\n",
       "<table border=\"1\" class=\"dataframe\">\n",
       "  <thead>\n",
       "    <tr style=\"text-align: right;\">\n",
       "      <th></th>\n",
       "      <th>id</th>\n",
       "      <th>price_off_peak_var</th>\n",
       "      <th>price_peak_var</th>\n",
       "      <th>price_mid_peak_var</th>\n",
       "      <th>price_off_peak_fix</th>\n",
       "      <th>price_peak_fix</th>\n",
       "      <th>price_mid_peak_fix</th>\n",
       "    </tr>\n",
       "  </thead>\n",
       "  <tbody>\n",
       "    <tr>\n",
       "      <th>0</th>\n",
       "      <td>0002203ffbb812588b632b9e628cc38d</td>\n",
       "      <td>0.124338</td>\n",
       "      <td>0.103794</td>\n",
       "      <td>0.073160</td>\n",
       "      <td>40.701732</td>\n",
       "      <td>24.421038</td>\n",
       "      <td>16.280694</td>\n",
       "    </tr>\n",
       "    <tr>\n",
       "      <th>1</th>\n",
       "      <td>0004351ebdd665e6ee664792efc4fd13</td>\n",
       "      <td>0.146426</td>\n",
       "      <td>0.000000</td>\n",
       "      <td>0.000000</td>\n",
       "      <td>44.385450</td>\n",
       "      <td>0.000000</td>\n",
       "      <td>0.000000</td>\n",
       "    </tr>\n",
       "    <tr>\n",
       "      <th>2</th>\n",
       "      <td>0010bcc39e42b3c2131ed2ce55246e3c</td>\n",
       "      <td>0.181558</td>\n",
       "      <td>0.000000</td>\n",
       "      <td>0.000000</td>\n",
       "      <td>45.319710</td>\n",
       "      <td>0.000000</td>\n",
       "      <td>0.000000</td>\n",
       "    </tr>\n",
       "    <tr>\n",
       "      <th>3</th>\n",
       "      <td>0010ee3855fdea87602a5b7aba8e42de</td>\n",
       "      <td>0.118757</td>\n",
       "      <td>0.098292</td>\n",
       "      <td>0.069032</td>\n",
       "      <td>40.647427</td>\n",
       "      <td>24.388455</td>\n",
       "      <td>16.258971</td>\n",
       "    </tr>\n",
       "    <tr>\n",
       "      <th>4</th>\n",
       "      <td>00114d74e963e47177db89bc70108537</td>\n",
       "      <td>0.147926</td>\n",
       "      <td>0.000000</td>\n",
       "      <td>0.000000</td>\n",
       "      <td>44.266930</td>\n",
       "      <td>0.000000</td>\n",
       "      <td>0.000000</td>\n",
       "    </tr>\n",
       "  </tbody>\n",
       "</table>\n",
       "</div>"
      ],
      "text/plain": [
       "                                 id  price_off_peak_var  price_peak_var  \\\n",
       "0  0002203ffbb812588b632b9e628cc38d            0.124338        0.103794   \n",
       "1  0004351ebdd665e6ee664792efc4fd13            0.146426        0.000000   \n",
       "2  0010bcc39e42b3c2131ed2ce55246e3c            0.181558        0.000000   \n",
       "3  0010ee3855fdea87602a5b7aba8e42de            0.118757        0.098292   \n",
       "4  00114d74e963e47177db89bc70108537            0.147926        0.000000   \n",
       "\n",
       "   price_mid_peak_var  price_off_peak_fix  price_peak_fix  price_mid_peak_fix  \n",
       "0            0.073160           40.701732       24.421038           16.280694  \n",
       "1            0.000000           44.385450        0.000000            0.000000  \n",
       "2            0.000000           45.319710        0.000000            0.000000  \n",
       "3            0.069032           40.647427       24.388455           16.258971  \n",
       "4            0.000000           44.266930        0.000000            0.000000  "
      ]
     },
     "execution_count": 23,
     "metadata": {},
     "output_type": "execute_result"
    }
   ],
   "source": [
    "# mean of each category\n",
    "temp1 = df_price.groupby(by='id', as_index=False).mean()\n",
    "temp1.head()"
   ]
  },
  {
   "cell_type": "code",
   "execution_count": null,
   "id": "07dbdab6",
   "metadata": {},
   "outputs": [],
   "source": []
  },
  {
   "cell_type": "code",
   "execution_count": 24,
   "id": "05bc3a82",
   "metadata": {},
   "outputs": [
    {
     "data": {
      "text/html": [
       "<div>\n",
       "<style scoped>\n",
       "    .dataframe tbody tr th:only-of-type {\n",
       "        vertical-align: middle;\n",
       "    }\n",
       "\n",
       "    .dataframe tbody tr th {\n",
       "        vertical-align: top;\n",
       "    }\n",
       "\n",
       "    .dataframe thead th {\n",
       "        text-align: right;\n",
       "    }\n",
       "</style>\n",
       "<table border=\"1\" class=\"dataframe\">\n",
       "  <thead>\n",
       "    <tr style=\"text-align: right;\">\n",
       "      <th></th>\n",
       "      <th>id</th>\n",
       "      <th>channel_sales</th>\n",
       "      <th>cons_12m</th>\n",
       "      <th>cons_gas_12m</th>\n",
       "      <th>cons_last_month</th>\n",
       "      <th>date_activ</th>\n",
       "      <th>date_end</th>\n",
       "      <th>date_modif_prod</th>\n",
       "      <th>date_renewal</th>\n",
       "      <th>forecast_cons_12m</th>\n",
       "      <th>...</th>\n",
       "      <th>num_years_antig</th>\n",
       "      <th>origin_up</th>\n",
       "      <th>pow_max</th>\n",
       "      <th>churn</th>\n",
       "      <th>price_off_peak_var</th>\n",
       "      <th>price_peak_var</th>\n",
       "      <th>price_mid_peak_var</th>\n",
       "      <th>price_off_peak_fix</th>\n",
       "      <th>price_peak_fix</th>\n",
       "      <th>price_mid_peak_fix</th>\n",
       "    </tr>\n",
       "  </thead>\n",
       "  <tbody>\n",
       "    <tr>\n",
       "      <th>0</th>\n",
       "      <td>24011ae4ebbe3035111d65fa7c15bc57</td>\n",
       "      <td>foosdfpfkusacimwkcsosbicdxkicaua</td>\n",
       "      <td>0</td>\n",
       "      <td>54946</td>\n",
       "      <td>0</td>\n",
       "      <td>2013-06-15</td>\n",
       "      <td>2016-06-15</td>\n",
       "      <td>2015-11-01</td>\n",
       "      <td>2015-06-23</td>\n",
       "      <td>0.00</td>\n",
       "      <td>...</td>\n",
       "      <td>3</td>\n",
       "      <td>lxidpiddsbxsbosboudacockeimpuepw</td>\n",
       "      <td>43.648</td>\n",
       "      <td>1</td>\n",
       "      <td>0.124787</td>\n",
       "      <td>0.100749</td>\n",
       "      <td>0.066530</td>\n",
       "      <td>40.942265</td>\n",
       "      <td>22.352010</td>\n",
       "      <td>14.901340</td>\n",
       "    </tr>\n",
       "    <tr>\n",
       "      <th>1</th>\n",
       "      <td>d29c2c54acc38ff3c0614d0a653813dd</td>\n",
       "      <td>MISSING</td>\n",
       "      <td>4660</td>\n",
       "      <td>0</td>\n",
       "      <td>0</td>\n",
       "      <td>2009-08-21</td>\n",
       "      <td>2016-08-30</td>\n",
       "      <td>2009-08-21</td>\n",
       "      <td>2015-08-31</td>\n",
       "      <td>189.95</td>\n",
       "      <td>...</td>\n",
       "      <td>6</td>\n",
       "      <td>kamkkxfxxuwbdslkwifmmcsiusiuosws</td>\n",
       "      <td>13.800</td>\n",
       "      <td>0</td>\n",
       "      <td>0.149609</td>\n",
       "      <td>0.007124</td>\n",
       "      <td>0.000000</td>\n",
       "      <td>44.311375</td>\n",
       "      <td>0.000000</td>\n",
       "      <td>0.000000</td>\n",
       "    </tr>\n",
       "    <tr>\n",
       "      <th>2</th>\n",
       "      <td>764c75f661154dac3a6c254cd082ea7d</td>\n",
       "      <td>foosdfpfkusacimwkcsosbicdxkicaua</td>\n",
       "      <td>544</td>\n",
       "      <td>0</td>\n",
       "      <td>0</td>\n",
       "      <td>2010-04-16</td>\n",
       "      <td>2016-04-16</td>\n",
       "      <td>2010-04-16</td>\n",
       "      <td>2015-04-17</td>\n",
       "      <td>47.96</td>\n",
       "      <td>...</td>\n",
       "      <td>6</td>\n",
       "      <td>kamkkxfxxuwbdslkwifmmcsiusiuosws</td>\n",
       "      <td>13.856</td>\n",
       "      <td>0</td>\n",
       "      <td>0.170512</td>\n",
       "      <td>0.088421</td>\n",
       "      <td>0.000000</td>\n",
       "      <td>44.385450</td>\n",
       "      <td>0.000000</td>\n",
       "      <td>0.000000</td>\n",
       "    </tr>\n",
       "    <tr>\n",
       "      <th>3</th>\n",
       "      <td>bba03439a292a1e166f80264c16191cb</td>\n",
       "      <td>lmkebamcaaclubfxadlmueccxoimlema</td>\n",
       "      <td>1584</td>\n",
       "      <td>0</td>\n",
       "      <td>0</td>\n",
       "      <td>2010-03-30</td>\n",
       "      <td>2016-03-30</td>\n",
       "      <td>2010-03-30</td>\n",
       "      <td>2015-03-31</td>\n",
       "      <td>240.04</td>\n",
       "      <td>...</td>\n",
       "      <td>6</td>\n",
       "      <td>kamkkxfxxuwbdslkwifmmcsiusiuosws</td>\n",
       "      <td>13.200</td>\n",
       "      <td>0</td>\n",
       "      <td>0.151210</td>\n",
       "      <td>0.000000</td>\n",
       "      <td>0.000000</td>\n",
       "      <td>44.400265</td>\n",
       "      <td>0.000000</td>\n",
       "      <td>0.000000</td>\n",
       "    </tr>\n",
       "    <tr>\n",
       "      <th>4</th>\n",
       "      <td>149d57cf92fc41cf94415803a877cb4b</td>\n",
       "      <td>MISSING</td>\n",
       "      <td>4425</td>\n",
       "      <td>0</td>\n",
       "      <td>526</td>\n",
       "      <td>2010-01-13</td>\n",
       "      <td>2016-03-07</td>\n",
       "      <td>2010-01-13</td>\n",
       "      <td>2015-03-09</td>\n",
       "      <td>445.75</td>\n",
       "      <td>...</td>\n",
       "      <td>6</td>\n",
       "      <td>kamkkxfxxuwbdslkwifmmcsiusiuosws</td>\n",
       "      <td>19.800</td>\n",
       "      <td>0</td>\n",
       "      <td>0.124174</td>\n",
       "      <td>0.103638</td>\n",
       "      <td>0.072865</td>\n",
       "      <td>40.688156</td>\n",
       "      <td>24.412893</td>\n",
       "      <td>16.275263</td>\n",
       "    </tr>\n",
       "    <tr>\n",
       "      <th>5</th>\n",
       "      <td>1aa498825382410b098937d65c4ec26d</td>\n",
       "      <td>usilxuppasemubllopkaafesmlibmsdf</td>\n",
       "      <td>8302</td>\n",
       "      <td>0</td>\n",
       "      <td>1998</td>\n",
       "      <td>2011-12-09</td>\n",
       "      <td>2016-12-09</td>\n",
       "      <td>2015-11-01</td>\n",
       "      <td>2015-12-10</td>\n",
       "      <td>796.94</td>\n",
       "      <td>...</td>\n",
       "      <td>4</td>\n",
       "      <td>lxidpiddsbxsbosboudacockeimpuepw</td>\n",
       "      <td>13.200</td>\n",
       "      <td>1</td>\n",
       "      <td>0.168953</td>\n",
       "      <td>0.087632</td>\n",
       "      <td>0.000000</td>\n",
       "      <td>44.266930</td>\n",
       "      <td>0.000000</td>\n",
       "      <td>0.000000</td>\n",
       "    </tr>\n",
       "    <tr>\n",
       "      <th>6</th>\n",
       "      <td>7ab4bf4878d8f7661dfc20e9b8e18011</td>\n",
       "      <td>foosdfpfkusacimwkcsosbicdxkicaua</td>\n",
       "      <td>45097</td>\n",
       "      <td>0</td>\n",
       "      <td>0</td>\n",
       "      <td>2011-12-02</td>\n",
       "      <td>2016-12-02</td>\n",
       "      <td>2011-12-02</td>\n",
       "      <td>2015-12-03</td>\n",
       "      <td>8069.28</td>\n",
       "      <td>...</td>\n",
       "      <td>4</td>\n",
       "      <td>lxidpiddsbxsbosboudacockeimpuepw</td>\n",
       "      <td>15.000</td>\n",
       "      <td>1</td>\n",
       "      <td>0.166061</td>\n",
       "      <td>0.084744</td>\n",
       "      <td>0.000000</td>\n",
       "      <td>44.266930</td>\n",
       "      <td>0.000000</td>\n",
       "      <td>0.000000</td>\n",
       "    </tr>\n",
       "    <tr>\n",
       "      <th>7</th>\n",
       "      <td>01495c955be7ec5e7f3203406785aae0</td>\n",
       "      <td>foosdfpfkusacimwkcsosbicdxkicaua</td>\n",
       "      <td>29552</td>\n",
       "      <td>0</td>\n",
       "      <td>1260</td>\n",
       "      <td>2010-04-21</td>\n",
       "      <td>2016-04-21</td>\n",
       "      <td>2010-04-21</td>\n",
       "      <td>2015-04-22</td>\n",
       "      <td>864.73</td>\n",
       "      <td>...</td>\n",
       "      <td>6</td>\n",
       "      <td>lxidpiddsbxsbosboudacockeimpuepw</td>\n",
       "      <td>26.400</td>\n",
       "      <td>0</td>\n",
       "      <td>0.122816</td>\n",
       "      <td>0.102501</td>\n",
       "      <td>0.073536</td>\n",
       "      <td>40.674580</td>\n",
       "      <td>24.404747</td>\n",
       "      <td>16.269833</td>\n",
       "    </tr>\n",
       "    <tr>\n",
       "      <th>8</th>\n",
       "      <td>f53a254b1115634330c12c7fdbf7958a</td>\n",
       "      <td>usilxuppasemubllopkaafesmlibmsdf</td>\n",
       "      <td>2962</td>\n",
       "      <td>0</td>\n",
       "      <td>0</td>\n",
       "      <td>2011-09-23</td>\n",
       "      <td>2016-09-23</td>\n",
       "      <td>2011-09-23</td>\n",
       "      <td>2015-09-25</td>\n",
       "      <td>444.38</td>\n",
       "      <td>...</td>\n",
       "      <td>4</td>\n",
       "      <td>kamkkxfxxuwbdslkwifmmcsiusiuosws</td>\n",
       "      <td>13.200</td>\n",
       "      <td>0</td>\n",
       "      <td>0.149682</td>\n",
       "      <td>0.000000</td>\n",
       "      <td>0.000000</td>\n",
       "      <td>44.311375</td>\n",
       "      <td>0.000000</td>\n",
       "      <td>0.000000</td>\n",
       "    </tr>\n",
       "    <tr>\n",
       "      <th>9</th>\n",
       "      <td>10c1b2f97a2d2a6f10299dc213d1a370</td>\n",
       "      <td>lmkebamcaaclubfxadlmueccxoimlema</td>\n",
       "      <td>26064</td>\n",
       "      <td>0</td>\n",
       "      <td>2188</td>\n",
       "      <td>2010-05-04</td>\n",
       "      <td>2016-05-04</td>\n",
       "      <td>2015-04-29</td>\n",
       "      <td>2015-05-05</td>\n",
       "      <td>2738.10</td>\n",
       "      <td>...</td>\n",
       "      <td>6</td>\n",
       "      <td>lxidpiddsbxsbosboudacockeimpuepw</td>\n",
       "      <td>31.500</td>\n",
       "      <td>0</td>\n",
       "      <td>0.123379</td>\n",
       "      <td>0.102952</td>\n",
       "      <td>0.073786</td>\n",
       "      <td>40.728885</td>\n",
       "      <td>24.437330</td>\n",
       "      <td>16.291555</td>\n",
       "    </tr>\n",
       "  </tbody>\n",
       "</table>\n",
       "<p>10 rows × 32 columns</p>\n",
       "</div>"
      ],
      "text/plain": [
       "                                 id                     channel_sales  \\\n",
       "0  24011ae4ebbe3035111d65fa7c15bc57  foosdfpfkusacimwkcsosbicdxkicaua   \n",
       "1  d29c2c54acc38ff3c0614d0a653813dd                           MISSING   \n",
       "2  764c75f661154dac3a6c254cd082ea7d  foosdfpfkusacimwkcsosbicdxkicaua   \n",
       "3  bba03439a292a1e166f80264c16191cb  lmkebamcaaclubfxadlmueccxoimlema   \n",
       "4  149d57cf92fc41cf94415803a877cb4b                           MISSING   \n",
       "5  1aa498825382410b098937d65c4ec26d  usilxuppasemubllopkaafesmlibmsdf   \n",
       "6  7ab4bf4878d8f7661dfc20e9b8e18011  foosdfpfkusacimwkcsosbicdxkicaua   \n",
       "7  01495c955be7ec5e7f3203406785aae0  foosdfpfkusacimwkcsosbicdxkicaua   \n",
       "8  f53a254b1115634330c12c7fdbf7958a  usilxuppasemubllopkaafesmlibmsdf   \n",
       "9  10c1b2f97a2d2a6f10299dc213d1a370  lmkebamcaaclubfxadlmueccxoimlema   \n",
       "\n",
       "   cons_12m  cons_gas_12m  cons_last_month  date_activ    date_end  \\\n",
       "0         0         54946                0  2013-06-15  2016-06-15   \n",
       "1      4660             0                0  2009-08-21  2016-08-30   \n",
       "2       544             0                0  2010-04-16  2016-04-16   \n",
       "3      1584             0                0  2010-03-30  2016-03-30   \n",
       "4      4425             0              526  2010-01-13  2016-03-07   \n",
       "5      8302             0             1998  2011-12-09  2016-12-09   \n",
       "6     45097             0                0  2011-12-02  2016-12-02   \n",
       "7     29552             0             1260  2010-04-21  2016-04-21   \n",
       "8      2962             0                0  2011-09-23  2016-09-23   \n",
       "9     26064             0             2188  2010-05-04  2016-05-04   \n",
       "\n",
       "  date_modif_prod date_renewal  forecast_cons_12m  ...  num_years_antig  \\\n",
       "0      2015-11-01   2015-06-23               0.00  ...                3   \n",
       "1      2009-08-21   2015-08-31             189.95  ...                6   \n",
       "2      2010-04-16   2015-04-17              47.96  ...                6   \n",
       "3      2010-03-30   2015-03-31             240.04  ...                6   \n",
       "4      2010-01-13   2015-03-09             445.75  ...                6   \n",
       "5      2015-11-01   2015-12-10             796.94  ...                4   \n",
       "6      2011-12-02   2015-12-03            8069.28  ...                4   \n",
       "7      2010-04-21   2015-04-22             864.73  ...                6   \n",
       "8      2011-09-23   2015-09-25             444.38  ...                4   \n",
       "9      2015-04-29   2015-05-05            2738.10  ...                6   \n",
       "\n",
       "                          origin_up  pow_max  churn  price_off_peak_var  \\\n",
       "0  lxidpiddsbxsbosboudacockeimpuepw   43.648      1            0.124787   \n",
       "1  kamkkxfxxuwbdslkwifmmcsiusiuosws   13.800      0            0.149609   \n",
       "2  kamkkxfxxuwbdslkwifmmcsiusiuosws   13.856      0            0.170512   \n",
       "3  kamkkxfxxuwbdslkwifmmcsiusiuosws   13.200      0            0.151210   \n",
       "4  kamkkxfxxuwbdslkwifmmcsiusiuosws   19.800      0            0.124174   \n",
       "5  lxidpiddsbxsbosboudacockeimpuepw   13.200      1            0.168953   \n",
       "6  lxidpiddsbxsbosboudacockeimpuepw   15.000      1            0.166061   \n",
       "7  lxidpiddsbxsbosboudacockeimpuepw   26.400      0            0.122816   \n",
       "8  kamkkxfxxuwbdslkwifmmcsiusiuosws   13.200      0            0.149682   \n",
       "9  lxidpiddsbxsbosboudacockeimpuepw   31.500      0            0.123379   \n",
       "\n",
       "   price_peak_var price_mid_peak_var  price_off_peak_fix  price_peak_fix  \\\n",
       "0        0.100749           0.066530           40.942265       22.352010   \n",
       "1        0.007124           0.000000           44.311375        0.000000   \n",
       "2        0.088421           0.000000           44.385450        0.000000   \n",
       "3        0.000000           0.000000           44.400265        0.000000   \n",
       "4        0.103638           0.072865           40.688156       24.412893   \n",
       "5        0.087632           0.000000           44.266930        0.000000   \n",
       "6        0.084744           0.000000           44.266930        0.000000   \n",
       "7        0.102501           0.073536           40.674580       24.404747   \n",
       "8        0.000000           0.000000           44.311375        0.000000   \n",
       "9        0.102952           0.073786           40.728885       24.437330   \n",
       "\n",
       "   price_mid_peak_fix  \n",
       "0           14.901340  \n",
       "1            0.000000  \n",
       "2            0.000000  \n",
       "3            0.000000  \n",
       "4           16.275263  \n",
       "5            0.000000  \n",
       "6            0.000000  \n",
       "7           16.269833  \n",
       "8            0.000000  \n",
       "9           16.291555  \n",
       "\n",
       "[10 rows x 32 columns]"
      ]
     },
     "execution_count": 24,
     "metadata": {},
     "output_type": "execute_result"
    }
   ],
   "source": [
    "# Merge everything together in a single dataframe\n",
    "df = pd.merge(df_client, temp1, on='id')\n",
    "df.head(10)"
   ]
  },
  {
   "cell_type": "markdown",
   "id": "8482d428",
   "metadata": {},
   "source": [
    "## Part 2. Check if the churn is price-sensitive thing (According to the customer's demand)\n",
    "\n",
    "Take 'churn' and any price related features and check correlations. Compare it with other features"
   ]
  },
  {
   "cell_type": "code",
   "execution_count": 25,
   "id": "05e17a66",
   "metadata": {},
   "outputs": [
    {
     "data": {
      "text/plain": [
       "Index(['id', 'channel_sales', 'cons_12m', 'cons_gas_12m', 'cons_last_month',\n",
       "       'date_activ', 'date_end', 'date_modif_prod', 'date_renewal',\n",
       "       'forecast_cons_12m', 'forecast_cons_year', 'forecast_discount_energy',\n",
       "       'forecast_meter_rent_12m', 'forecast_price_energy_off_peak',\n",
       "       'forecast_price_energy_peak', 'forecast_price_pow_off_peak', 'has_gas',\n",
       "       'imp_cons', 'margin_gross_pow_ele', 'margin_net_pow_ele', 'nb_prod_act',\n",
       "       'net_margin', 'num_years_antig', 'origin_up', 'pow_max', 'churn',\n",
       "       'price_off_peak_var', 'price_peak_var', 'price_mid_peak_var',\n",
       "       'price_off_peak_fix', 'price_peak_fix', 'price_mid_peak_fix'],\n",
       "      dtype='object')"
      ]
     },
     "execution_count": 25,
     "metadata": {},
     "output_type": "execute_result"
    }
   ],
   "source": [
    "df.columns"
   ]
  },
  {
   "cell_type": "markdown",
   "id": "eb847d98",
   "metadata": {},
   "source": [
    "### Part 2.1. Overall correlation between price vs churn: Higher peak, mid_peak-> weak positive correlation to the  churn state"
   ]
  },
  {
   "cell_type": "code",
   "execution_count": 26,
   "id": "5c1f7c85",
   "metadata": {},
   "outputs": [
    {
     "data": {
      "image/png": "[encoded data removed]",
      "text/plain": [
       "<Figure size 432x288 with 1 Axes>"
      ]
     },
     "metadata": {
      "needs_background": "light"
     },
     "output_type": "display_data"
    }
   ],
   "source": [
    "cols = ['churn']\n",
    "temp = df[df['price_peak_fix'].notnull()]\n",
    "\n",
    "for col in df.columns:\n",
    "    if \"price\" in col:\n",
    "        cols.append(col)\n",
    "\n",
    "sns.barplot(x=temp[cols].corr()['churn'].sort_values().iloc[:-1].index,\n",
    "            y= temp[cols].corr()['churn'].sort_values().iloc[:-1].values)\n",
    "plt.xticks(rotation=90);"
   ]
  },
  {
   "cell_type": "code",
   "execution_count": 27,
   "id": "0718f8a7",
   "metadata": {},
   "outputs": [
    {
     "data": {
      "text/plain": [
       "<seaborn.axisgrid.FacetGrid at 0x285b2858910>"
      ]
     },
     "execution_count": 27,
     "metadata": {},
     "output_type": "execute_result"
    },
    {
     "data": {
      "image/png": "[encoded data removed]",
      "text/plain": [
       "<Figure size 402.375x360 with 1 Axes>"
      ]
     },
     "metadata": {
      "needs_background": "light"
     },
     "output_type": "display_data"
    }
   ],
   "source": [
    "sns.displot(data=df, x='price_peak_fix', hue='churn', multiple='stack')"
   ]
  },
  {
   "cell_type": "code",
   "execution_count": 28,
   "id": "933869b7",
   "metadata": {},
   "outputs": [
    {
     "data": {
      "text/plain": [
       "<seaborn.axisgrid.FacetGrid at 0x285b04db5e0>"
      ]
     },
     "execution_count": 28,
     "metadata": {},
     "output_type": "execute_result"
    },
    {
     "data": {
      "image/png": "[encoded data removed]",
      "text/plain": [
       "<Figure size 402.375x360 with 1 Axes>"
      ]
     },
     "metadata": {
      "needs_background": "light"
     },
     "output_type": "display_data"
    }
   ],
   "source": [
    "sns.displot(data=df, x='price_peak_var', hue='churn', multiple='stack')"
   ]
  },
  {
   "cell_type": "code",
   "execution_count": 29,
   "id": "27efbcc9",
   "metadata": {},
   "outputs": [
    {
     "data": {
      "text/plain": [
       "<seaborn.axisgrid.FacetGrid at 0x285b1522a60>"
      ]
     },
     "execution_count": 29,
     "metadata": {},
     "output_type": "execute_result"
    },
    {
     "data": {
      "image/png": "[encoded data removed]",
      "text/plain": [
       "<Figure size 402.375x360 with 1 Axes>"
      ]
     },
     "metadata": {
      "needs_background": "light"
     },
     "output_type": "display_data"
    }
   ],
   "source": [
    "sns.displot(data=df, x='price_mid_peak_fix', hue='churn', multiple='stack')"
   ]
  },
  {
   "cell_type": "code",
   "execution_count": 30,
   "id": "949c2222",
   "metadata": {},
   "outputs": [
    {
     "data": {
      "text/plain": [
       "<seaborn.axisgrid.FacetGrid at 0x285b3e469d0>"
      ]
     },
     "execution_count": 30,
     "metadata": {},
     "output_type": "execute_result"
    },
    {
     "data": {
      "image/png": "[encoded data removed]",
      "text/plain": [
       "<Figure size 402.375x360 with 1 Axes>"
      ]
     },
     "metadata": {
      "needs_background": "light"
     },
     "output_type": "display_data"
    }
   ],
   "source": [
    "sns.displot(data=df, x='price_mid_peak_var', hue='churn', multiple='stack')"
   ]
  },
  {
   "cell_type": "markdown",
   "id": "0a0ebd71",
   "metadata": {},
   "source": [
    "There is no visual evidence of difference in price distribution between churn vs no churn."
   ]
  },
  {
   "cell_type": "markdown",
   "id": "f03d1fb3",
   "metadata": {},
   "source": [
    "### Part 2.2. Consumption vs churn: High energy consumption in last 12 months -> no chrun!\n",
    "* It looks more correlated from the data visualization\n",
    "* Price has no huge impact on energy consumption"
   ]
  },
  {
   "cell_type": "code",
   "execution_count": 31,
   "id": "6a67b908",
   "metadata": {},
   "outputs": [
    {
     "data": {
      "image/png": "[encoded data removed]",
      "text/plain": [
       "<Figure size 432x288 with 1 Axes>"
      ]
     },
     "metadata": {
      "needs_background": "light"
     },
     "output_type": "display_data"
    }
   ],
   "source": [
    "cols = ['churn']\n",
    "temp = df[df['price_peak_fix'].notnull()]\n",
    "\n",
    "for col in df.columns:\n",
    "    if \"cons\" in col:\n",
    "        cols.append(col)\n",
    "\n",
    "sns.barplot(x=temp[cols].corr()['churn'].sort_values().iloc[:-1].index,\n",
    "            y= temp[cols].corr()['churn'].sort_values().iloc[:-1].values)\n",
    "plt.xticks(rotation=90);"
   ]
  },
  {
   "cell_type": "code",
   "execution_count": 32,
   "id": "29860374",
   "metadata": {},
   "outputs": [
    {
     "data": {
      "text/plain": [
       "Text(0.5, 1.0, 'Energy consumption vs Churn')"
      ]
     },
     "execution_count": 32,
     "metadata": {},
     "output_type": "execute_result"
    },
    {
     "data": {
      "image/png": "[encoded data removed]",
      "text/plain": [
       "<Figure size 432x288 with 1 Axes>"
      ]
     },
     "metadata": {
      "needs_background": "light"
     },
     "output_type": "display_data"
    }
   ],
   "source": [
    "sns.histplot(data=df, x='cons_12m', hue='churn',bins=50, multiple='stack')\n",
    "plt.axvline(df[df['churn']==1]['cons_12m'].describe()['75%'],0,1, color='r', linestyle='--',linewidth=1)\n",
    "plt.text(0.5e6,2000,'75% of Churnned clients are in the \\nleft hand side of the red line',ha='left')\n",
    "plt.title('Energy consumption vs Churn')"
   ]
  },
  {
   "cell_type": "code",
   "execution_count": 33,
   "id": "5f3425e9",
   "metadata": {},
   "outputs": [
    {
     "data": {
      "text/plain": [
       "churn                            -0.045968\n",
       "forecast_discount_energy         -0.043282\n",
       "forecast_price_pow_off_peak      -0.026566\n",
       "price_off_peak_fix               -0.013744\n",
       "margin_gross_pow_ele             -0.011926\n",
       "margin_net_pow_ele               -0.011905\n",
       "forecast_price_energy_off_peak   -0.007748\n",
       "num_years_antig                  -0.003565\n",
       "price_off_peak_var                0.000694\n",
       "price_mid_peak_var                0.050555\n",
       "price_peak_fix                    0.051751\n",
       "price_mid_peak_fix                0.055081\n",
       "forecast_meter_rent_12m           0.065268\n",
       "pow_max                           0.082889\n",
       "net_margin                        0.133614\n",
       "price_peak_var                    0.142933\n",
       "forecast_price_energy_peak        0.145908\n",
       "nb_prod_act                       0.154251\n",
       "imp_cons                          0.159711\n",
       "forecast_cons_year                0.167093\n",
       "forecast_cons_12m                 0.193947\n",
       "cons_gas_12m                      0.488474\n",
       "cons_last_month                   0.968212\n",
       "Name: cons_12m, dtype: float64"
      ]
     },
     "execution_count": 33,
     "metadata": {},
     "output_type": "execute_result"
    }
   ],
   "source": [
    "df.corr()['cons_12m'].sort_values().iloc[:-1]"
   ]
  },
  {
   "cell_type": "markdown",
   "id": "826d951f",
   "metadata": {},
   "source": [
    "### Part 2.3. Tenure vs Churn: 75% of Churnned clients are within 6 years."
   ]
  },
  {
   "cell_type": "code",
   "execution_count": 34,
   "id": "2f7779f0",
   "metadata": {},
   "outputs": [
    {
     "data": {
      "text/plain": [
       "<AxesSubplot:xlabel='num_years_antig', ylabel='Count'>"
      ]
     },
     "execution_count": 34,
     "metadata": {},
     "output_type": "execute_result"
    },
    {
     "data": {
      "image/png": "[encoded data removed]",
      "text/plain": [
       "<Figure size 432x288 with 1 Axes>"
      ]
     },
     "metadata": {
      "needs_background": "light"
     },
     "output_type": "display_data"
    }
   ],
   "source": [
    "sns.histplot(data=df, x='num_years_antig', hue='churn', multiple='stack')"
   ]
  },
  {
   "cell_type": "code",
   "execution_count": 35,
   "id": "47325fe6",
   "metadata": {},
   "outputs": [
    {
     "data": {
      "text/plain": [
       "count    1419.000000\n",
       "mean        4.633545\n",
       "std         1.531853\n",
       "min         2.000000\n",
       "25%         4.000000\n",
       "50%         4.000000\n",
       "75%         6.000000\n",
       "max        13.000000\n",
       "Name: num_years_antig, dtype: float64"
      ]
     },
     "execution_count": 35,
     "metadata": {},
     "output_type": "execute_result"
    }
   ],
   "source": [
    "# Statistics of churrned client\n",
    "df[df['churn']==1]['num_years_antig'].describe()"
   ]
  },
  {
   "cell_type": "markdown",
   "id": "bf327c27",
   "metadata": {},
   "source": [
    "## Part 3. Categorical Features"
   ]
  },
  {
   "cell_type": "code",
   "execution_count": 36,
   "id": "a4d1b80d",
   "metadata": {},
   "outputs": [
    {
     "name": "stdout",
     "output_type": "stream",
     "text": [
      "<class 'pandas.core.frame.DataFrame'>\n",
      "Int64Index: 14606 entries, 0 to 14605\n",
      "Data columns (total 32 columns):\n",
      " #   Column                          Non-Null Count  Dtype  \n",
      "---  ------                          --------------  -----  \n",
      " 0   id                              14606 non-null  object \n",
      " 1   channel_sales                   14606 non-null  object \n",
      " 2   cons_12m                        14606 non-null  int64  \n",
      " 3   cons_gas_12m                    14606 non-null  int64  \n",
      " 4   cons_last_month                 14606 non-null  int64  \n",
      " 5   date_activ                      14606 non-null  object \n",
      " 6   date_end                        14606 non-null  object \n",
      " 7   date_modif_prod                 14606 non-null  object \n",
      " 8   date_renewal                    14606 non-null  object \n",
      " 9   forecast_cons_12m               14606 non-null  float64\n",
      " 10  forecast_cons_year              14606 non-null  int64  \n",
      " 11  forecast_discount_energy        14606 non-null  float64\n",
      " 12  forecast_meter_rent_12m         14606 non-null  float64\n",
      " 13  forecast_price_energy_off_peak  14606 non-null  float64\n",
      " 14  forecast_price_energy_peak      14606 non-null  float64\n",
      " 15  forecast_price_pow_off_peak     14606 non-null  float64\n",
      " 16  has_gas                         14606 non-null  object \n",
      " 17  imp_cons                        14606 non-null  float64\n",
      " 18  margin_gross_pow_ele            14606 non-null  float64\n",
      " 19  margin_net_pow_ele              14606 non-null  float64\n",
      " 20  nb_prod_act                     14606 non-null  int64  \n",
      " 21  net_margin                      14606 non-null  float64\n",
      " 22  num_years_antig                 14606 non-null  int64  \n",
      " 23  origin_up                       14606 non-null  object \n",
      " 24  pow_max                         14606 non-null  float64\n",
      " 25  churn                           14606 non-null  int64  \n",
      " 26  price_off_peak_var              14606 non-null  float64\n",
      " 27  price_peak_var                  14606 non-null  float64\n",
      " 28  price_mid_peak_var              14606 non-null  float64\n",
      " 29  price_off_peak_fix              14606 non-null  float64\n",
      " 30  price_peak_fix                  14606 non-null  float64\n",
      " 31  price_mid_peak_fix              14606 non-null  float64\n",
      "dtypes: float64(17), int64(7), object(8)\n",
      "memory usage: 4.2+ MB\n"
     ]
    }
   ],
   "source": [
    "df.info()"
   ]
  },
  {
   "cell_type": "code",
   "execution_count": 37,
   "id": "22deb312",
   "metadata": {},
   "outputs": [],
   "source": [
    "def get_categorical(df):\n",
    "    cols = []\n",
    "    for col in df.columns:\n",
    "        if df[col].dtype == 'object':\n",
    "            cols.append(col)\n",
    "    return cols"
   ]
  },
  {
   "cell_type": "code",
   "execution_count": 38,
   "id": "1400099a",
   "metadata": {},
   "outputs": [
    {
     "name": "stdout",
     "output_type": "stream",
     "text": [
      "['id', 'channel_sales', 'date_activ', 'date_end', 'date_modif_prod', 'date_renewal', 'has_gas', 'origin_up']\n"
     ]
    }
   ],
   "source": [
    "cols = get_categorical(df)\n",
    "print(cols)"
   ]
  },
  {
   "cell_type": "markdown",
   "id": "ab62c8c2",
   "metadata": {},
   "source": [
    "'id' , 'has_gas' , 'origin_up' are the real categorical features.\n",
    "\n",
    "Remove id"
   ]
  },
  {
   "cell_type": "code",
   "execution_count": 39,
   "id": "e2ef2b1c",
   "metadata": {},
   "outputs": [],
   "source": [
    "df_cat=df[['id','has_gas','origin_up','churn']]"
   ]
  },
  {
   "cell_type": "code",
   "execution_count": 40,
   "id": "5a2fc038",
   "metadata": {},
   "outputs": [
    {
     "data": {
      "text/plain": [
       "id           14606\n",
       "has_gas          2\n",
       "origin_up        6\n",
       "churn            2\n",
       "dtype: int64"
      ]
     },
     "execution_count": 40,
     "metadata": {},
     "output_type": "execute_result"
    }
   ],
   "source": [
    "df_cat.nunique()"
   ]
  },
  {
   "cell_type": "code",
   "execution_count": 41,
   "id": "6f4ad78a",
   "metadata": {},
   "outputs": [
    {
     "data": {
      "text/plain": [
       "array(['lxidpiddsbxsbosboudacockeimpuepw',\n",
       "       'kamkkxfxxuwbdslkwifmmcsiusiuosws',\n",
       "       'ldkssxwpmemidmecebumciepifcamkci', 'MISSING',\n",
       "       'usapbepcfoloekilkwsdiboslwaxobdp',\n",
       "       'ewxeelcelemmiwuafmddpobolfuxioce'], dtype=object)"
      ]
     },
     "execution_count": 41,
     "metadata": {},
     "output_type": "execute_result"
    }
   ],
   "source": [
    "df_cat['origin_up'].unique()"
   ]
  },
  {
   "cell_type": "markdown",
   "id": "ee30f4d4",
   "metadata": {},
   "source": [
    "Look at \"MISSING\": 4% of the whole data"
   ]
  },
  {
   "cell_type": "code",
   "execution_count": 42,
   "id": "ce061094",
   "metadata": {},
   "outputs": [
    {
     "data": {
      "text/plain": [
       "0.004381760920169793"
      ]
     },
     "execution_count": 42,
     "metadata": {},
     "output_type": "execute_result"
    }
   ],
   "source": [
    "len(df_cat[df_cat['origin_up']=='MISSING'])/len(df_cat)"
   ]
  },
  {
   "cell_type": "code",
   "execution_count": 43,
   "id": "62a24fb8",
   "metadata": {},
   "outputs": [
    {
     "data": {
      "image/png": "[encoded data removed]",
      "text/plain": [
       "<Figure size 432x288 with 1 Axes>"
      ]
     },
     "metadata": {
      "needs_background": "light"
     },
     "output_type": "display_data"
    }
   ],
   "source": [
    "sns.histplot(data=df_cat, x='origin_up', hue='churn', multiple = \"stack\")\n",
    "plt.xticks(rotation=90);"
   ]
  },
  {
   "cell_type": "markdown",
   "id": "d67908d9",
   "metadata": {},
   "source": [
    "## Conclusion\n",
    "* Electricity consumption is strongly related to the churn\n",
    "* Peak and midpeak Prices are correlated to the churn state, but number of service years and consumptions are also as strongly related.\n",
    "* Not sure if 20% discount tactics will work at this point\n",
    "* Focusing on a strategy to induce new energy-intensive customer will be more effective."
   ]
  },
  {
   "cell_type": "code",
   "execution_count": 44,
   "id": "f3adcfd4",
   "metadata": {},
   "outputs": [],
   "source": [
    "df_num = df.select_dtypes(include= np.number)"
   ]
  },
  {
   "cell_type": "code",
   "execution_count": 45,
   "id": "3e8d4445",
   "metadata": {},
   "outputs": [
    {
     "data": {
      "image/png": "[encoded data removed]",
      "text/plain": [
       "<Figure size 432x288 with 1 Axes>"
      ]
     },
     "metadata": {
      "needs_background": "light"
     },
     "output_type": "display_data"
    }
   ],
   "source": [
    "sns.barplot(x=df_num.corr()['churn'].sort_values().iloc[:-1].index, y=df_num.corr()['churn'].sort_values().iloc[:-1].values)\n",
    "plt.xticks(rotation=90);"
   ]
  },
  {
   "cell_type": "code",
   "execution_count": null,
   "id": "db6151fb",
   "metadata": {},
   "outputs": [],
   "source": []
  },
  {
   "cell_type": "code",
   "execution_count": null,
   "id": "e77b4638",
   "metadata": {},
   "outputs": [],
   "source": []
  },
  {
   "cell_type": "code",
   "execution_count": 46,
   "id": "18a60511",
   "metadata": {},
   "outputs": [],
   "source": [
    "df.to_csv('clean_data_after_eda.csv',index_label=False)"
   ]
  }
 ],
 "metadata": {
  "kernelspec": {
   "display_name": "Python 3 (ipykernel)",
   "language": "python",
   "name": "python3"
  },
  "language_info": {
   "codemirror_mode": {
    "name": "ipython",
    "version": 3
   },
   "file_extension": ".py",
   "mimetype": "text/x-python",
   "name": "python",
   "nbconvert_exporter": "python",
   "pygments_lexer": "ipython3",
   "version": "3.9.12"
  }
 },
 "nbformat": 4,
 "nbformat_minor": 5
}
